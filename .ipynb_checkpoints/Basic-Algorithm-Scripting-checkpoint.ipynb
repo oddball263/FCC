{
 "cells": [
  {
   "cell_type": "markdown",
   "metadata": {},
   "source": [
    "## Basic Algorithm Scripting\n",
    "** Test (50 hours) **\n",
    "\n",
    "Get Set for our Algorithm Challenges\n",
    "\n",
    "Reverse a String\n",
    "\n",
    "Factorialize a Number\n",
    "\n",
    "Check for Palindromes\n",
    "\n",
    "Find the Longest Word in a String\n",
    "\n",
    "Title Case a Sentence\n",
    "\n",
    "Return Largest Numbers in Arrays\n",
    "\n",
    "Confirm the Ending\n",
    "\n",
    "Repeat a string repeat a string\n",
    "\n",
    "Truncate a string\n",
    "\n",
    "Chunky Monkey\n",
    "\n",
    "Slasher Flick\n",
    "\n",
    "Mutations Incomplete   *\n",
    "Falsy Bouncer Incomplete   *\n",
    "Seek and Destroy Incomplete   *\n",
    "Where do I belong Incomplete   *\n",
    "Caesars Cipher Incomplete   *"
   ]
  },
  {
   "cell_type": "markdown",
   "metadata": {
    "collapsed": true
   },
   "source": [
    "### Slasher Flick\n",
    "    Return the remaining elements of an array after chopping off n elements from the head.\n",
    "    The head means the beginning of the array, or the zeroth index.\n",
    "    Here are some helpful links:"
   ]
  },
  {
   "cell_type": "code",
   "execution_count": 6,
   "metadata": {},
   "outputs": [
    {
     "data": {
      "text/plain": [
       "[ 3 ]"
      ]
     },
     "execution_count": 6,
     "metadata": {},
     "output_type": "execute_result"
    }
   ],
   "source": [
    "function slasher(arr, howMany) {\n",
    "  return arr.slice(howMany);\n",
    "}\n",
    "\n",
    "slasher([1, 2, 3], 2);"
   ]
  },
  {
   "cell_type": "markdown",
   "metadata": {},
   "source": [
    "### Mutations\n",
    "Return true if the string in the first element of the array contains all of the letters of the string in the second element of the array.\n",
    "\n",
    "For example, [\"hello\", \"Hello\"], should return true because all of the letters in the second string are present in the first, ignoring case.\n",
    "\n",
    "The arguments [\"hello\", \"hey\"] should return false because the string \"hello\" does not contain a \"y\".\n",
    "\n",
    "Lastly, [\"Alien\", \"line\"], should return true because all of the letters in \"line\" are present in \"Alien\".\n",
    "\n",
    "Remember to use Read-Search-Ask if you get stuck. Write your own code.\n",
    "\n",
    "Here are some helpful links:\n",
    "\n",
    "String.prototype.indexOf()"
   ]
  },
  {
   "cell_type": "code",
   "execution_count": 13,
   "metadata": {},
   "outputs": [
    {
     "data": {
      "text/plain": [
       "false"
      ]
     },
     "execution_count": 13,
     "metadata": {},
     "output_type": "execute_result"
    }
   ],
   "source": [
    "function mutation(arr) {\n",
    "    var str1 = arr[0].toLowerCase();\n",
    "    var str2 = arr[1].toLowerCase();\n",
    "if(str1.length > 0 && str2.length){\n",
    "    \n",
    "  for(var i = 0; i < str2.length; i++){\n",
    "      if(str1.indexOf(str2[i]) == -1 ) {\n",
    "        return false;\n",
    "     }\n",
    "  }\n",
    "          return true;\n",
    "} else return false;\n",
    "}\n",
    "\n",
    "mutation([\"voodoo\", \"\"]);"
   ]
  },
  {
   "cell_type": "markdown",
   "metadata": {},
   "source": [
    "### Falsy Bouncer\n",
    "Remove all falsy values from an array.\n",
    "Falsy values in JavaScript are:\n",
    "    1. false, \n",
    "    2. null, \n",
    "    3. 0, \n",
    "    4. \"\", \n",
    "    5. undefined \n",
    "    6. NaN\n",
    "\n",
    "Here are some helpful links:\n",
    "\n",
    "Boolean Objects\n",
    "Array.prototype.filter()"
   ]
  },
  {
   "cell_type": "code",
   "execution_count": 62,
   "metadata": {},
   "outputs": [
    {
     "data": {
      "text/plain": [
       "[ 'a', 99, 'f' ]"
      ]
     },
     "execution_count": 62,
     "metadata": {},
     "output_type": "execute_result"
    }
   ],
   "source": [
    "function bouncer(arr) {\n",
    "     \n",
    "    var newArr = arr.filter( function(val){\n",
    "        \n",
    "         if(typeof(val) === 'number' && isNaN(val)){\n",
    "             return false;\n",
    "         }        \n",
    "        switch(val){\n",
    "            case false:\n",
    "            case null:\n",
    "            case \"\":\n",
    "            case 0:\n",
    "            case undefined:\n",
    "                return false;\n",
    "           default:\n",
    "               return true;\n",
    "        } \n",
    "        \n",
    "     });\n",
    "    \n",
    "     return newArr;\n",
    "   }\n",
    "bouncer(['a', false, null, 0, 99, 42 / \"General Zod\", undefined, \"f\"]);\n"
   ]
  },
  {
   "cell_type": "markdown",
   "metadata": {},
   "source": [
    "### Seek and Destroy\n",
    "You will be provided with an initial array (the first argument in the destroyer function), followed by one or more arguments. \n",
    "\n",
    "Remove all elements from the initial array that are of the same value as these arguments.\n",
    "\n",
    "Here are some helpful links:\n",
    "\n",
    "Arguments object\n",
    "Array.prototype.filter()"
   ]
  },
  {
   "cell_type": "code",
   "execution_count": 79,
   "metadata": {},
   "outputs": [
    {
     "data": {
      "text/plain": [
       "[ 1, 1 ]"
      ]
     },
     "execution_count": 79,
     "metadata": {},
     "output_type": "execute_result"
    }
   ],
   "source": [
    "function destroyer(arr) {\n",
    "  // Remove all the values\n",
    "    var args = arguments;\n",
    "    \n",
    "    var newArr = arr.filter( function(val){\n",
    "        //return checkArgs(val,args);\n",
    "        for(var i = 1; i <= args.length; i++){\n",
    "             if(val == args[i]){\n",
    "                 return false;\n",
    "             }\n",
    "        }\n",
    "    return true;\n",
    "    });\n",
    "     return newArr;\n",
    "}\n",
    "\n",
    "destroyer([1, 2, 3, 1, 2, 3], 2, 3);\n"
   ]
  },
  {
   "cell_type": "markdown",
   "metadata": {},
   "source": [
    "### Where do I belong\n",
    "Return the lowest index at which a value (second argument) should be inserted into an array (first argument) once it has been sorted. The returned value should be a number.\n",
    "\n",
    "For example, getIndexToIns([1,2,3,4], 1.5) should return 1 because it is greater than 1 (index 0), but less than 2 (index 1).\n",
    "\n",
    "Likewise, getIndexToIns([20,3,5], 19) should return 2 because once the array has been sorted it will look like [3,5,20] and 19 is less than 20 (index 2) and greater than 5 (index 1).\n",
    "\n",
    "Here are some helpful links:\n",
    "Array.prototype.sort()"
   ]
  },
  {
   "cell_type": "code",
   "execution_count": 87,
   "metadata": {},
   "outputs": [
    {
     "data": {
      "text/plain": [
       "undefined"
      ]
     },
     "execution_count": 87,
     "metadata": {},
     "output_type": "execute_result"
    }
   ],
   "source": [
    "function getIndexToIns(arr, num) {\n",
    "  // Find my place in this sorted array.\n",
    "    arr.sort(function(a,b){\n",
    "        return a-b;\n",
    "    });\n",
    "    \n",
    "    for(var i = 0; i < arr.length; i++){\n",
    "        if(arr[i] >= num){\n",
    "            return i;\n",
    "        }\n",
    "    }\n",
    "    return i;\n",
    "}\n",
    "\n",
    "getIndexToIns([40, 60,6,7,8,9], 70);"
   ]
  },
  {
   "cell_type": "markdown",
   "metadata": {},
   "source": [
    "### Caesars Cipher\n",
    "One of the simplest and most widely known ciphers is a Caesar cipher, also known as a shift cipher. In a shift cipher the meanings of the letters are shifted by some set amount.\n",
    "\n",
    "A common modern use is the ROT13 cipher, where the values of the letters are shifted by 13 places. Thus 'A' ↔ 'N', 'B' ↔ 'O' and so on.\n",
    "\n",
    "Write a function which takes a ROT13 encoded string as input and returns a decoded string.\n",
    "\n",
    "All letters will be uppercase. Do not transform any non-alphabetic character (i.e. spaces, punctuation), but do pass them on.\n",
    "\n",
    "Here are some helpful links:\n",
    "\n",
    "String.prototype.charCodeAt()\n",
    "String.fromCharCode()"
   ]
  },
  {
   "cell_type": "code",
   "execution_count": 139,
   "metadata": {},
   "outputs": [
    {
     "data": {
      "text/plain": [
       "'F R E E   C O D E   C A M P'"
      ]
     },
     "execution_count": 139,
     "metadata": {},
     "output_type": "execute_result"
    }
   ],
   "source": [
    "function rot13(str) { // LBH QVQ VG!\n",
    "  \n",
    " var shft = 0;\n",
    " var newCodes = [] ;\n",
    "var retStr;\n",
    "    // \"m\".charCodeAt(0) = 109\n",
    "    for(var i = 0; i < str.length; i++){\n",
    "        var charcode = str.charCodeAt(i);\n",
    "        if( charcode >= 65 && charcode <= 77){\n",
    "            // A - M\n",
    "            shft = 13;\n",
    "        } else {\n",
    "            if(charcode >= 78 && charcode <= 90)\n",
    "            shft = -13; // N - Z\n",
    "        }\n",
    "     newCodes.push(String.fromCharCode(charcode + shft));\n",
    "        shft = 0;\n",
    "}\n",
    "  return newCodes.join(\"\");\n",
    "}\n",
    "\n",
    "// Change the inputs below to test\n",
    "rot13(\"SERR PBQR PNZC\");"
   ]
  },
  {
   "cell_type": "code",
   "execution_count": 140,
   "metadata": {},
   "outputs": [
    {
     "data": {
      "text/plain": [
       "90"
      ]
     },
     "execution_count": 140,
     "metadata": {},
     "output_type": "execute_result"
    }
   ],
   "source": [
    "\"Z\".charCodeAt(0)"
   ]
  }
 ],
 "metadata": {
  "kernelspec": {
   "display_name": "Javascript (Node.js)",
   "language": "javascript",
   "name": "javascript"
  },
  "language_info": {
   "file_extension": ".js",
   "mimetype": "application/javascript",
   "name": "javascript",
   "version": "6.9.2"
  }
 },
 "nbformat": 4,
 "nbformat_minor": 2
}
