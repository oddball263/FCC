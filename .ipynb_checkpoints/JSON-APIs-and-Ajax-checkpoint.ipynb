{
 "cells": [
  {
   "cell_type": "markdown",
   "metadata": {
    "raw_mimetype": "text/html",
    "slideshow": {
     "slide_type": "-"
    }
   },
   "source": [
    "## JSON APIs and Ajax\n",
    "__(2 hours)__\n",
    "\n",
    "In this section, we'll learn how to get data from APIs. APIs - or Application Programming Interfaces - are tools that computers use to communicate with one another.\n",
    "\n",
    "We'll also learn how to update HTML with the data we get from these APIs using a technology called Ajax.\n",
    "\n",
    "* Trigger Click Events with jQuery Incomplete\n",
    "\n",
    "* Change Text with Click Events Incomplete\n",
    "\n",
    "* Get JSON with the jQuery getJSON Method Incomplete\n",
    "\n",
    "* Convert JSON Data to HTML Incomplete\n",
    "\n",
    "* Render Images from Data Sources Incomplete\n",
    "\n",
    "* Prefilter JSON Incomplete\n",
    "\n",
    "* Get Geo-location Data"
   ]
  },
  {
   "cell_type": "markdown",
   "metadata": {},
   "source": [
    "### Trigger Click Events with jQuery\n",
    "#### $(document).ready(function(){});\n"
   ]
  },
  {
   "cell_type": "code",
   "execution_count": 1,
   "metadata": {},
   "outputs": [
    {
     "data": {
      "text/plain": [
       "NaN"
      ]
     },
     "execution_count": 1,
     "metadata": {},
     "output_type": "execute_result"
    }
   ],
   "source": [
    " $(document).ready(function() {\n",
    "    // Only change code below this line.\n",
    "    $(\"#getMessage\").on(\"click\", function(){\n",
    "    });\n",
    "    // Only change code above this line.\n",
    "  });"
   ]
  },
  {
   "cell_type": "markdown",
   "metadata": {},
   "source": [
    "### Change Text with Click Events\n",
    "#### .html(\"Here is the message\")"
   ]
  },
  {
   "cell_type": "code",
   "execution_count": null,
   "metadata": {},
   "outputs": [],
   "source": [
    "$(document).ready(function() {\n",
    "\n",
    "    $(\"#getMessage\").on(\"click\", function(){\n",
    "        $(\".message\").html(\"Here is the message\");\n",
    "    });\n",
    "    \n",
    "  });      "
   ]
  },
  {
   "cell_type": "markdown",
   "metadata": {},
   "source": [
    "### Get JSON with the jQuery getJSON Method\n",
    "#### getJSON();"
   ]
  },
  {
   "cell_type": "code",
   "execution_count": null,
   "metadata": {},
   "outputs": [],
   "source": [
    "  $(document).ready(function() {\n",
    "\n",
    "    $(\"#getMessage\").on(\"click\", function(){\n",
    "      \n",
    "        $.getJSON(\"/json/cats.json\", function(json) {\n",
    "            $(\".message\").html(JSON.stringify(json));\n",
    "        });\n",
    "    });\n",
    "  });"
   ]
  },
  {
   "cell_type": "markdown",
   "metadata": {},
   "source": [
    "### Convert JSON Data to HTML\n",
    "#### json.forEach();\n",
    "#### Object.keys\n",
    "#### keys.forEach(function(key) { key,  val[ key ] });"
   ]
  },
  {
   "cell_type": "code",
   "execution_count": null,
   "metadata": {},
   "outputs": [],
   "source": [
    "$(document).ready(function() {\n",
    "\n",
    "    $(\"#getMessage\").on(\"click\", function() {\n",
    "      $.getJSON(\"/json/cats.json\", function(json) {\n",
    "\n",
    "        var html = \"\";\n",
    "        \n",
    "            json.forEach(function(val) {\n",
    "                var keys = Object.keys(val);\n",
    "                html += \"<div class = 'cat'>\";\n",
    "                \n",
    "                keys.forEach(function(key) {\n",
    "                    html += \"<strong>\" + key + \"</strong>: \" + val[key] + \"<br>\";\n",
    "                });\n",
    "                html += \"</div><br>\";\n",
    "            });\n",
    "        $(\".message\").html(html);\n",
    "      });\n",
    "    });\n",
    "});"
   ]
  },
  {
   "cell_type": "markdown",
   "metadata": {},
   "source": [
    "### Render Images from Data Sources\n",
    "#### Just html img code..."
   ]
  },
  {
   "cell_type": "code",
   "execution_count": null,
   "metadata": {},
   "outputs": [],
   "source": [
    "$(document).ready(function() {\n",
    "\n",
    "    $(\"#getMessage\").on(\"click\", function() {\n",
    "      $.getJSON(\"/json/cats.json\", function(json) {\n",
    "\n",
    "        var html = \"\";\n",
    "\n",
    "        json.forEach(function(val) {\n",
    "\n",
    "          html += \"<div class = 'cat'>\";\n",
    "          html += \"<img src = '\" + val.imageLink + \"' \" + \"alt='\" + val.altText + \"'>\";\n",
    "          html += \"</div>\";\n",
    "\n",
    "        });\n",
    "        $(\".message\").html(html);\n",
    "      });\n",
    "    });\n",
    "  });"
   ]
  },
  {
   "cell_type": "markdown",
   "metadata": {},
   "source": [
    "### Pre-Filter JSON\n",
    "#### Just use .filter(function(val){});"
   ]
  },
  {
   "cell_type": "code",
   "execution_count": null,
   "metadata": {},
   "outputs": [],
   "source": [
    "$(document).ready(function() {\n",
    "\n",
    "    $(\"#getMessage\").on(\"click\", function() {\n",
    "      $.getJSON(\"/json/cats.json\", function(json) {\n",
    "\n",
    "        var html = \"\";\n",
    "          \n",
    "        json = json.filter(function(val) {\n",
    "          return (val.id !== 1);\n",
    "        });\n",
    "        \n",
    "        json.forEach(function(val) {\n",
    "\n",
    "          html += \"<div class = 'cat'>\"\n",
    "          html += \"<img src = '\" + val.imageLink + \"' \" + \"alt='\" + val.altText + \"'>\"\n",
    "          html += \"</div>\"\n",
    "\n",
    "        });\n",
    "        $(\".message\").html(html);\n",
    "      });\n",
    "    });\n",
    "  });"
   ]
  },
  {
   "cell_type": "markdown",
   "metadata": {},
   "source": [
    "### Get Geolocation Data\n",
    "#### navigator.geolocation.getCurrentPosition()..."
   ]
  },
  {
   "cell_type": "code",
   "execution_count": null,
   "metadata": {},
   "outputs": [],
   "source": [
    "if (navigator.geolocation) {\n",
    "  navigator.geolocation.getCurrentPosition(function(position) {\n",
    "    $(\"#data\").html(\"latitude: \" + position.coords.latitude + \"<br>longitude: \" + position.coords.longitude);\n",
    "  });\n",
    "}"
   ]
  }
 ],
 "metadata": {
  "celltoolbar": "Raw Cell Format",
  "kernelspec": {
   "display_name": "Javascript (Node.js)",
   "language": "javascript",
   "name": "javascript"
  },
  "language_info": {
   "file_extension": ".js",
   "mimetype": "application/javascript",
   "name": "javascript",
   "version": "6.9.2"
  }
 },
 "nbformat": 4,
 "nbformat_minor": 2
}
