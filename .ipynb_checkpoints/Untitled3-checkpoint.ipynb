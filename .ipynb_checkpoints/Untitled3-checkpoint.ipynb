{
 "cells": [
  {
   "cell_type": "markdown",
   "metadata": {},
   "source": [
    "## Basic Algorithm Scripting\n",
    "** Test (50 hours) **\n",
    "\n",
    "Get Set for our Algorithm Challenges Complete\n",
    "Reverse a String Complete   *\n",
    "Factorialize a Number Complete   *\n",
    "Check for Palindromes Complete   *\n",
    "Find the Longest Word in a String Complete   *\n",
    "Title Case a Sentence Complete   *\n",
    "Return Largest Numbers in Arrays Complete   *\n",
    "Confirm the Ending Complete   *\n",
    "Repeat a string repeat a string Complete   *\n",
    "Truncate a string Complete   *\n",
    "Chunky Monkey Complete   *\n",
    "Slasher Flick Incomplete   *\n",
    "Mutations Incomplete   *\n",
    "Falsy Bouncer Incomplete   *\n",
    "Seek and Destroy Incomplete   *\n",
    "Where do I belong Incomplete   *\n",
    "Caesars Cipher Incomplete   *"
   ]
  },
  {
   "cell_type": "code",
   "execution_count": null,
   "metadata": {
    "collapsed": true
   },
   "outputs": [],
   "source": [
    "Slasher Flick\n",
    "Return the remaining elements of an array after chopping off n elements from the head.\n",
    "\n",
    "The head means the beginning of the array, or the zeroth index.\n",
    "\n",
    "Remember to use Read-Search-Ask if you get stuck. Write your own code.\n",
    "\n",
    "Here are some helpful links:\n",
    "\n"
   ]
  }
 ],
 "metadata": {
  "kernelspec": {
   "display_name": "Javascript (Node.js)",
   "language": "javascript",
   "name": "javascript"
  },
  "language_info": {
   "file_extension": ".js",
   "mimetype": "application/javascript",
   "name": "javascript",
   "version": "6.9.2"
  }
 },
 "nbformat": 4,
 "nbformat_minor": 2
}
