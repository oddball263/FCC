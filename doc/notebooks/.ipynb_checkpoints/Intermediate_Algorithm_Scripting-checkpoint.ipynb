{
 "cells": [
  {
   "cell_type": "markdown",
   "metadata": {},
   "source": [
    "# Intermediate Algorithm Scripting\n",
    "\n",
    "### 1. Sum all numbers in a Range\n",
    "#### Math.max(), Math.min(), Array.reduce()\n",
    "    \n",
    "__Get 2 numbers,  summ all between them, including the original end numbers__\n",
    "** Math.max(), Math.min()\n",
    "    1. Get the max or min of a group of numbers.\n",
    "** Array.prototype.reduce()\n",
    "    1. Applies a function against an accumulator and each element in the array (from left to right) to reduce it to a single value.\n",
    "    2. arr.reduce(callback[, initialValue]) \n",
    "    3. https://developer.mozilla.org/en-US/docs/Web/JavaScript/Reference/Global_Objects/Array/Reduce"
   ]
  },
  {
   "cell_type": "code",
   "execution_count": 111,
   "metadata": {},
   "outputs": [
    {
     "data": {
      "text/plain": [
       "26"
      ]
     },
     "execution_count": 111,
     "metadata": {},
     "output_type": "execute_result"
    }
   ],
   "source": [
    "function sumAll(arr) {\n",
    "   var allNos = [];\n",
    "    var max = Math.max(arr[0],arr[1]);\n",
    "    var min = Math.min(arr[0],arr[1]);\n",
    "    \n",
    "    while(min <= max){\n",
    "        allNos.push(min);\n",
    "        min++;\n",
    "    }\n",
    "    return allNos.reduce(function(a,b){\n",
    "        return a+b;\n",
    "    });\n",
    "    \n",
    "}\n",
    "sumAll([5, 8]);\n"
   ]
  },
  {
   "cell_type": "markdown",
   "metadata": {},
   "source": [
    "### 2. Diff Two Arrays - Check for duplicate values.\n",
    "#### Array.filter(), Array.indexOf()\n",
    "    \n",
    "__Compare two arrays and return a new array with any items only found in one of the two given arrays, but not both. \n",
    "In other words, return the symmetric difference of the two arrays.__\n",
    "\n",
    "* Array.prototype.filter() - returns new array for \"true\"\n",
    "* Array.prototype.splice() - splice(1,2) - removes at index 1, 2 items\n",
    "* Array.prototype.indexOf() - first index\n",
    "    * Array.prototype.join(), .concat()\n"
   ]
  },
  {
   "cell_type": "code",
   "execution_count": 10,
   "metadata": {},
   "outputs": [
    {
     "data": {
      "text/plain": [
       "[ 'pink wool' ]"
      ]
     },
     "execution_count": 10,
     "metadata": {},
     "output_type": "execute_result"
    }
   ],
   "source": [
    "function diffArray(arr1, arr2) {\n",
    "\n",
    "    var newArr = [];\n",
    "\n",
    "    for(i=0; i<arr1.length; i++){\n",
    "        var x = arr2.indexOf(arr1[i]);\n",
    "        if( x != -1) {\n",
    "            arr2.splice(x, 1);\n",
    "        }else{\n",
    "            newArr.push(arr1[i]);\n",
    "        }\n",
    "    }\n",
    "    for(i=0; i<arr2.length; i++){\n",
    "        var y = arr1.indexOf(arr2[i]);\n",
    "        if( y == -1) {\n",
    "            newArr.push(arr2[i]);\n",
    "        }\n",
    "    }\n",
    "    return newArr;\n",
    "}\n",
    "\n",
    "diffArray([\"diorite\", \"andesite\", \"grass\", \"dirt\", \"andesite\",\"pink wool\", \n",
    "           \"dead shrub\"], [\"diorite\", \"andesite\", \"grass\", \"dirt\", \"andesite\", \n",
    "                           \"dead shrub\", \"diorite\"]);"
   ]
  },
  {
   "cell_type": "code",
   "execution_count": 28,
   "metadata": {},
   "outputs": [
    {
     "data": {
      "text/plain": [
       "[ 'piglet', 4 ]"
      ]
     },
     "execution_count": 28,
     "metadata": {},
     "output_type": "execute_result"
    }
   ],
   "source": [
    "function diffArray2(arr1, arr2) {\n",
    "    \n",
    "    var newArr = arr1.filter(function(x){\n",
    "        var y = arr2.indexOf(x);\n",
    "        //console.log(y);\n",
    "        if( y != -1){\n",
    "            arr2.splice(y,1);\n",
    "            return false;\n",
    "        } else{\n",
    "            return true;\n",
    "        }\n",
    "    });\n",
    "\n",
    "    var newArr2 = arr2.filter(function(x){\n",
    "        return arr1.indexOf(x) == -1;\n",
    "    });\n",
    "\n",
    "    return newArr.concat(newArr2);\n",
    "}\n",
    "\n",
    "diffArray2([1, \"calf\", 3, \"piglet\"], [1, \"calf\", 3, 4]);\n"
   ]
  },
  {
   "cell_type": "markdown",
   "metadata": {},
   "source": [
    "### 3. Roman Numeral Converter - Lookup\n"
   ]
  },
  {
   "cell_type": "code",
   "execution_count": 32,
   "metadata": {},
   "outputs": [
    {
     "data": {
      "text/plain": [
       "'MMMCMXCIX'"
      ]
     },
     "execution_count": 32,
     "metadata": {},
     "output_type": "execute_result"
    }
   ],
   "source": [
    "///Think \"MeDiCaL XaVIer\". \n",
    "function convertToRoman(num) {\n",
    "    var rem = 0;\n",
    "    var thos = Math.floor(num/1000);\n",
    "    rem = num%1000;\n",
    "    var nHnds = Math.floor(rem/900);\n",
    "    rem = rem%900;\n",
    "    var fvHnds = Math.floor(rem/500);\n",
    "    rem = rem%500;\n",
    "    var frHnds = Math.floor(rem/400);\n",
    "    rem = rem%400;\n",
    "    var hnds = Math.floor(rem/100);\n",
    "    rem = rem%100;\n",
    "    var nty = Math.floor(rem/90);\n",
    "    rem = rem%90;\n",
    "    var ffty = Math.floor(rem/50);\n",
    "    rem = rem%50;\n",
    "    var fty = Math.floor(rem/40);\n",
    "    rem = rem%40;\n",
    "    var tens = Math.floor(rem/10);\n",
    "    rem = rem%10;\n",
    "    var nines = Math.floor(rem/9);\n",
    "    rem = rem%9;\n",
    "    var fives = Math.floor(rem/5);\n",
    "    rem = rem%5;\n",
    "    var fours = Math.floor(rem/4);\n",
    "    var ones = rem%4;\n",
    "\n",
    "    var qtys = [thos,nHnds,fvHnds,frHnds,hnds,nty,ffty,fty,tens,\n",
    "                nines,fives,fours,ones];\n",
    "    var romans = [\"M\",\"CM\",\"D\",\"CD\",\"C\",\"XC\",\"L\",\"XL\",\"X\",\n",
    "                \"IX\",\"V\",\"IV\",\"I\"];\n",
    "    var res = [];\n",
    "    \n",
    "    for(var i = 0; i<qtys.length;i++){\n",
    "        for(var q = 0; q < qtys[i]; q++){\n",
    "            res.push(romans[i]);\n",
    "        }\n",
    "    }\n",
    "    return res.join(\"\");   \n",
    "}\n",
    "    \n",
    "convertToRoman(3999) //MCDXI\n"
   ]
  },
  {
   "cell_type": "markdown",
   "metadata": {},
   "source": [
    "### 4. Wherefore art thou - Check for Duplicate Objects\n",
    "#### Global Object, Object.hasOwnProperty(), Object.keys()\n",
    "* Make a function that looks through an array of objects (first argument) and returns an array of all objects that __have matching property and value pairs__ in the (second argument). \n",
    "* Each property and value pair of the source object has to be present in the object from the collection if it is to be included in the returned array.\n",
    "__Some Testing__"
   ]
  },
  {
   "cell_type": "code",
   "execution_count": 6,
   "metadata": {},
   "outputs": [
    {
     "data": {
      "text/plain": [
       "[ { a: 1, b: 2, c: 2 } ]"
      ]
     },
     "execution_count": 6,
     "metadata": {},
     "output_type": "execute_result"
    }
   ],
   "source": [
    "function whatIsInAName(collection, source) {\n",
    "\n",
    "    var newArr = [];\n",
    "    var sKeys = Object.keys(source);\n",
    "\n",
    "    for(i=0; i<collection.length; i++){\n",
    "    //res(\"i= \" + i + \", Object.keys(collection[i]: \" + Object.keys(collection[i]) ,5);\n",
    "    var matched = 0;\n",
    "    sKeys.forEach(function(key,index){\n",
    "        //res(\"key: \" + key + \", collection[i].hasOwnProperty(key): \" + collection[i].hasOwnProperty(key) + \", Object.keys(collection[i]\" + Object.keys(collection[i]), 5)\n",
    "        if(collection[i].hasOwnProperty(key) && collection[i][key] == source[key]){\n",
    "            matched++;\n",
    "        }\n",
    "    })\n",
    "    if(matched == sKeys.length ){\n",
    "        newArr.push(collection[i]);\n",
    "    }\n",
    "    }\n",
    "    return newArr;\n",
    "}\n",
    "\n",
    "whatIsInAName([{ \"a\": 1, \"b\": 2 }, { \"b\": 1 }, { \"a\": 1, \"b\": 2, \"c\": 2 }], { \"a\": 1, \"c\": 2 });"
   ]
  },
  {
   "cell_type": "markdown",
   "metadata": {},
   "source": [
    "#### Object name-value pair handling samples"
   ]
  },
  {
   "cell_type": "code",
   "execution_count": 113,
   "metadata": {},
   "outputs": [
    {
     "name": "stdout",
     "output_type": "stream",
     "text": [
      "x.first: ross\n",
      "y.first: ross\n",
      ">x.hasOwnProperty('first'): true,michael\n",
      "y.hasOwnProperty('first'): true,ross\n",
      "Object.keys(x).length: 2\n",
      "Object.keys(y).length: 2\n",
      "Object.keys(x).forEach(function(i,name): key = name, index = 0\n",
      "Object.keys(x).forEach(function(i,name): key = first, index = 1\n",
      "Object.keys(y).forEach(function(i,name): key = name, index = 0\n",
      "Object.keys(y).forEach(function(i,name): key = first, index = 1\n"
     ]
    },
    {
     "data": {
      "text/plain": [
       "undefined"
      ]
     },
     "execution_count": 113,
     "metadata": {},
     "output_type": "execute_result"
    }
   ],
   "source": [
    "function res(x){\n",
    "    console.log(x);\n",
    "}\n",
    "\n",
    "var x = { name:\"tato\", first:\"michael\"};\n",
    "var y = {name:\"tato\"}\n",
    "y.first = \"ross\"\n",
    "\n",
    "if(x.first){\n",
    "    res(\"x.first: \" + y.first , 5);\n",
    "}\n",
    "if(y.first){\n",
    "    res(\"y.first: \" + y.first , 5);\n",
    "}\n",
    "\n",
    "res(\">x.hasOwnProperty('first'): \" + x.hasOwnProperty(\"first\") + \",\" + x.first , 5)\n",
    "res(\"y.hasOwnProperty('first'): \" + y.hasOwnProperty(\"first\") + \",\" + y.first , 5)\n",
    "\n",
    "\n",
    "res(\"Object.keys(x).length: \" + Object.keys(x).length , 5);\n",
    "res(\"Object.keys(y).length: \" + Object.keys(y).length , 5);\n",
    "\n",
    "Object.keys(x).forEach(function(key,index){\n",
    "    res(\"Object.keys(x).forEach(function(i,name): key = \" + key + \", index = \" + index, 5);\n",
    "});\n",
    "Object.keys(y).forEach(function(key,index){\n",
    "    res(\"Object.keys(y).forEach(function(i,name): key = \" + key + \", index = \" + index, 5);\n",
    "});"
   ]
  },
  {
   "cell_type": "markdown",
   "metadata": {},
   "source": [
    "### 5. Search and Replace - RegEx...\n",
    "#### Array.splice() - remove/replace,  String.replace(),  Array.join()\n",
    "* Replace:\n",
    "    * https://developer.mozilla.org/en-US/docs/Web/JavaScript/Reference/Global_Objects/String/replace\n",
    "* RegExp:\n",
    "    * https://developer.mozilla.org/en-US/docs/Web/JavaScript/Reference/Global_Objects/RegExp\n",
    "    * https://developer.mozilla.org/en-US/docs/Web/JavaScript/Guide/Regular_Expressions\n",
    "* You can specify a function as the second parameter. In this case, the __function will be invoked after__ the match has been performed.\n",
    "* Array.splice() can remove and replace."
   ]
  },
  {
   "cell_type": "code",
   "execution_count": 50,
   "metadata": {},
   "outputs": [
    {
     "data": {
      "text/plain": [
       "'Let us get back to more Algorithms'"
      ]
     },
     "execution_count": 50,
     "metadata": {},
     "output_type": "execute_result"
    }
   ],
   "source": [
    "function myReplace(str, before, after) {\n",
    "  \n",
    "var reg = new RegExp(before, 'i');\n",
    "return str.replace(reg, function(match){\n",
    "    if (match[0] === match[0].toUpperCase()){\n",
    "        var arrAfter = after.split(\"\");\n",
    "        arrAfter[0] = arrAfter[0].toUpperCase();\n",
    "        return arrAfter.join('');\n",
    "    }\n",
    "     return after;\n",
    "});\n",
    "}\n",
    "myReplace(\"Let us get back to more Coding\", \"Coding\", \"algorithms\")\n",
    "//myReplace(\"A quick brown fox Jumped over the lazy dog\", \"jumped\", \"leaped\");\n"
   ]
  },
  {
   "cell_type": "markdown",
   "metadata": {},
   "source": [
    "#### RegExp samples..."
   ]
  },
  {
   "cell_type": "code",
   "execution_count": 159,
   "metadata": {},
   "outputs": [
    {
     "name": "stdout",
     "output_type": "stream",
     "text": [
      "{ p1: 'abc', p2: '12345', p3: '#$*%', st: 'abc12345#$*%' }\n",
      "abc - 12345 - #$*%\n"
     ]
    },
    {
     "data": {
      "text/plain": [
       "undefined"
      ]
     },
     "execution_count": 159,
     "metadata": {},
     "output_type": "execute_result"
    }
   ],
   "source": [
    "// string.replace();\n",
    "    // 1. match - The matched substring. (Corresponds to $& above.)\n",
    "    // 2. p1, p2, ... - The nth parenthesized submatch string, provided the first argument to replace() was a RegExp object. (Corresponds to $1, $2, etc. above.) For example, if /(\\a+)(\\b+)/, was given, p1 is the match for \\a+, and p2 for \\b+.\n",
    "    // 3. offset - The offset of the matched substring within the whole string being examined. \n",
    "        //(For example, if the whole string was 'abcd', and the matched substring was 'bc', \n",
    "        //then this argument will be 1.)\n",
    "    // 4. string - The whole string being examined.\n",
    "var x = \"testMe\";\n",
    "var reg = new RegExp('ab+c', 'i');\n",
    "reg;\n",
    "new RegExp(x, 'i');\n",
    "\n",
    "var str = \"TestMe please!\";\n",
    "var re2 = new RegExp('^' + x, 'i');\n",
    "str.search(re2);\n",
    "\n",
    "\n",
    "function replacer(match, p1, p2, p3, offset, string) {\n",
    "  // p1 is nondigits, p2 digits, and p3 non-alphanumerics\n",
    "      console.log({p1:p1, p2:p2, p3:p3, st:string});\n",
    "  return [p1, p2, p3].join(' - ');\n",
    "}\n",
    "var newString = 'abc12345#$*%'.replace(/([^\\d]*)(\\d*)([^\\w]*)/, replacer);\n",
    "//var newString = \"AAATC\".replace(/(T+)/, replacer);\n",
    "\n",
    "console.log(newString);  // abc - 12345 - #$*%\n",
    "\n",
    "var re = /apples/i;\n",
    "var str = 'Apples are round, and apples are juicy.';\n",
    "var newstr = str.replace(re, 'oranges');\n",
    "//console.log(newstr);  // oranges are round, and oranges are juicy."
   ]
  },
  {
   "cell_type": "markdown",
   "metadata": {},
   "source": [
    "### 6. Pig Latin - RegExp instead of loop\n",
    "#### RegExp(), String.substr(), String.search()"
   ]
  },
  {
   "cell_type": "code",
   "execution_count": 59,
   "metadata": {},
   "outputs": [
    {
     "data": {
      "text/plain": [
       "'oveglay'"
      ]
     },
     "execution_count": 59,
     "metadata": {},
     "output_type": "execute_result"
    }
   ],
   "source": [
    "function translatePigLatin(str) {\n",
    "    var i = str.search(/[aeiou]/i);\n",
    "    if(i > 0){\n",
    "        return str.substr(i, str.length-i) + str.substr(0, i) + \"ay\";\n",
    "    }else{\n",
    "        return str + \"way\";\n",
    "    }\n",
    "}\n",
    "\n",
    "translatePigLatin(\"glove\");"
   ]
  },
  {
   "cell_type": "markdown",
   "metadata": {},
   "source": [
    "### 7. DNA Pairing - 2 ways, RegEx... for looping\n",
    "#### Array.forEach(), Array.push() ,  \n",
    "* Split - combine and lookup"
   ]
  },
  {
   "cell_type": "code",
   "execution_count": 233,
   "metadata": {},
   "outputs": [
    {
     "data": {
      "text/plain": [
       "[ [ 'A', 'T' ],\n",
       "  [ 'T', 'A' ],\n",
       "  [ 'C', 'G' ],\n",
       "  [ 'G', 'C' ],\n",
       "  [ 'A', 'T' ] ]"
      ]
     },
     "execution_count": 233,
     "metadata": {},
     "output_type": "execute_result"
    }
   ],
   "source": [
    "\n",
    "function pairElement2(str) {\n",
    "    var pairs = {A:\"T\", C:\"G\", T:\"A\",G:\"C\"};\n",
    "    var bases = str.split(\"\");\n",
    "    var res = [];\n",
    "    bases.forEach(function(b){\n",
    "        res.push([b, pairs[b]]);\n",
    "    });\n",
    "return res;\n",
    "}\n",
    "pairElement2(\"ATCGA\");\n",
    "/// --------------------------------------------\n",
    "\n",
    "function pairElement(str) {\n",
    "    var res = [];\n",
    "    str.replace(/(T)|(A)|([G])|([C])/g, repBase);\n",
    "\n",
    "    function repBase(match, p1, p2, p3, p4) {\n",
    "      //console.log({p1:p1, p2:p2, p3:p3, p4:p4});\n",
    "        if (p1) { res.push([p1,\"A\"]); }\n",
    "        if (p2) { res.push([p2,\"T\"]); }\n",
    "        if (p3) { res.push([p3,\"C\"]); }\n",
    "        if (p4) { res.push([p4,\"G\"]); }\n",
    "    }\n",
    "    return res;\n",
    "}\n",
    "// pairElement(\"ATCGA\");    // should return [[\"A\",\"T\"],[\"T\",\"A\"],[\"C\",\"G\"],[\"G\",\"C\"],[\"A\",\"T\"]].\n",
    "//pairElement(\"TTGAG\");    //  should return [[\"T\",\"A\"],[\"T\",\"A\"],[\"G\",\"C\"],[\"A\",\"T\"],[\"G\",\"C\"]].\n",
    "// pairElement(\"CTCTA\");    //  should return [[\"C\",\"G\"],[\"T\",\"A\"],[\"C\",\"G\"],[\"T\",\"A\"],[\"A\",\"T\"]]."
   ]
  },
  {
   "cell_type": "markdown",
   "metadata": {},
   "source": [
    "### 8. Missing Letters - charCodeAt()\n",
    "#### str.charCodeAt(), String.fromCharCode();\n",
    "Find the missing letter in the passed letter range and return it.\n",
    "If all letters are present in the range, return undefined."
   ]
  },
  {
   "cell_type": "code",
   "execution_count": 86,
   "metadata": {},
   "outputs": [
    {
     "data": {
      "text/plain": [
       "undefined"
      ]
     },
     "execution_count": 86,
     "metadata": {},
     "output_type": "execute_result"
    }
   ],
   "source": [
    "function fearNotLetter(str) {\n",
    "    for(var i = 0; i<str.length-1; i++){\n",
    "        if(str.charCodeAt(i+1) != str.charCodeAt(i) + 1){\n",
    "            return String.fromCharCode(str.charCodeAt(i)+1);\n",
    "        }\n",
    "    }\n",
    "}\n",
    "\n",
    "fearNotLetter(\"abcde\");\n",
    "// fearNotLetter(\"abce\") should return \"d\".\n",
    "// fearNotLetter(\"abcdefghjklmno\") should return \"i\".\n",
    "// fearNotLetter(\"bcd\") should return undefined.\n",
    "// fearNotLetter(\"yz\") should return undefined."
   ]
  },
  {
   "cell_type": "markdown",
   "metadata": {},
   "source": [
    "## 9. Boo who - Boolean Object\n",
    "### Boolean primitive: var x = false;\n",
    "#### typeof x == 'boolean',  var x = Boolean(expression);\n",
    "* Javascript primitives are not objects, they have no properties.\n",
    "    * var x = false; or x = true; is a __primitive__\n",
    "* You can  make a Boolean object, var x = Boolean(expression), but it's not a primitive.\n",
    "* Boolean objects will evaluate to true unless they are __0, -0, null, false, NaN, undefined, or the empty string (\"\")__.\n",
    "* var x = new Boolean(false) eveluates to __true__ because it is an object containing a value."
   ]
  },
  {
   "cell_type": "code",
   "execution_count": 95,
   "metadata": {},
   "outputs": [
    {
     "data": {
      "text/plain": [
       "false"
      ]
     },
     "execution_count": 95,
     "metadata": {},
     "output_type": "execute_result"
    }
   ],
   "source": [
    "function booWho(bool) {\n",
    "  // What is the new fad diet for ghost developers? The Boolean.\n",
    "  return (typeof bool == 'boolean')  ? true : false;\n",
    "}\n",
    "\n",
    "booWho([1, 2, 3]);\n",
    "//var x = false;\n",
    "//typeof x == 'boolean'"
   ]
  },
  {
   "cell_type": "markdown",
   "metadata": {},
   "source": [
    "### Sorted Union - unique values \n",
    "#### arguments Object\n",
    "* Write a function that takes two or more arrays and returns a new array of unique values in the order of the original provided arrays.\n",
    "\n",
    "* In other words, all values present from all arrays should be included in their original order, but with no duplicates in the final array.\n",
    "\n",
    "* The unique numbers should be sorted by their original order, but the final array should not be sorted in numerical order.\n",
    "\n",
    "    * Arguments object\n",
    "        * https://developer.mozilla.org/en-US/docs/Web/JavaScript/Reference/Functions/arguments\n",
    "    * Array.prototype.reduce()\n",
    "        * https://developer.mozilla.org/en-US/docs/Web/JavaScript/Reference/Global_Objects/Array/Reduce\n"
   ]
  },
  {
   "cell_type": "code",
   "execution_count": 105,
   "metadata": {},
   "outputs": [
    {
     "data": {
      "text/plain": [
       "[ 1, 3, 2, [ 5 ], [ 4 ] ]"
      ]
     },
     "execution_count": 105,
     "metadata": {},
     "output_type": "execute_result"
    }
   ],
   "source": [
    "function uniteUnique(arr) {\n",
    "    var arr1 = Array.from(arguments[0]);\n",
    "    for(var i=1; i<arguments.length; i++){\n",
    "        for(var j=0; j<arguments[i].length; j++){\n",
    "            if(arr1.indexOf(arguments[i][j]) == -1){\n",
    "                arr1.push(arguments[i][j]);\n",
    "            }\n",
    "        }\n",
    "    }\n",
    "return arr;\n",
    "}\n",
    "uniteUnique([1, 3, 2], [1, [5]], [2, [4]]);"
   ]
  },
  {
   "cell_type": "markdown",
   "metadata": {},
   "source": [
    "### 11. Convert HTML Entities - regex"
   ]
  },
  {
   "cell_type": "code",
   "execution_count": 151,
   "metadata": {},
   "outputs": [
    {
     "data": {
      "text/plain": [
       "'What &amp; &quot;What&quot; &amp; &gt; &amp; &lt; &amp; &quot;What&quot; &amp; &gt; &amp; &lt; '"
      ]
     },
     "execution_count": 151,
     "metadata": {},
     "output_type": "execute_result"
    }
   ],
   "source": [
    "function convertHTML(str) {\n",
    "    str = str.replace(/&/g,\"&amp;\");\n",
    "    str = str.replace(/\"/g,\"&quot;\").replace(/'/g,\"&apos;\");\n",
    "    str = str.replace(/</g,\"&lt;\").replace(/>/g,\"&gt;\"); \n",
    "    \n",
    "    return str;\n",
    "}\n",
    "convertHTML('What & \"What\" & > & < & \"What\" & > & < ')"
   ]
  },
  {
   "cell_type": "markdown",
   "metadata": {},
   "source": [
    "### 12. Spinal Tap Case - regex\n",
    "#### RegExp(), String.Replace()\n",
    "* The p1,p2... parenthesized query is tricky. Easier with three separate lines."
   ]
  },
  {
   "cell_type": "code",
   "execution_count": 250,
   "metadata": {},
   "outputs": [
    {
     "data": {
      "text/plain": [
       "'this-is-spinal-tap'"
      ]
     },
     "execution_count": 250,
     "metadata": {},
     "output_type": "execute_result"
    }
   ],
   "source": [
    "function spinalCase(str) {\n",
    "str = str.replace(/_/g,\"\");\n",
    "str = str.replace(/\\B[A-Z]/g,function(match){ return \" \" + match;})\n",
    "str = str.replace(/ /g,\"-\"); \n",
    "\n",
    "return str.toLowerCase();\n",
    "}\n",
    "\n",
    "function spinalCase2(str) {\n",
    " var newStr  = str.replace(/(_)|(\\B[A-Z])|( )/g, function(match,  p1, p2, p3, index){\n",
    "     console.log(\"index: \" + index + \", p1: \" + p1 + \", p2: \" + p2 + \", p3: \" + p3);\n",
    "     // console.log(p2);\n",
    "     if(p1){\n",
    "         return \"\";\n",
    "     }else{ \n",
    "         if(p2){\n",
    "         return \" \" + p2;\n",
    "         } else {\n",
    "             if(p3){\n",
    "             return \"-\";\n",
    "             } else {\n",
    "         return \"\";\n",
    "         }\n",
    "        }\n",
    "     }\n",
    " });\n",
    "    return newStr;\n",
    "}\n",
    "/*\n",
    "spinalCase(\"This Is Spinal Tap\")        replace \" \" with - then lower\n",
    "spinalCase(\"thisIsSpinalTap\")           replace Upper with \" \" then lower\n",
    "spinalCase(\"The_Andy_Griffith_Show\")    , then lower\n",
    "spinalCase(\"Teletubbies say Eh-oh\")     should return \"teletubbies-say-eh-oh\".\n",
    "    replace _ with space\n",
    "    replace uppers with space(only AllThe )\n",
    "    replace \" \" with - then lower\n",
    "    */\n",
    "// spinalCase(\"This Is Spinal Tap\");\n",
    " spinalCase(\"thisIsSpinalTap\");\n",
    "// spinalCase(\"The_Andy_Griffith_Show\")\n",
    "//spinalCase(\"Teletubbies say Eh-oh\")\n",
    "// spinalCase(\"AllThe-small Things_\");      "
   ]
  },
  {
   "cell_type": "markdown",
   "metadata": {},
   "source": [
    "### 13. Sum All Odd Fibonacci Numbers\n",
    "#### while(), modulus %\n",
    "__Given a positive integer num, return the sum of all odd Fibonacci numbers that are less than or equal to num.__\n",
    "\n",
    "1. The first two numbers in the Fibonacci sequence are 1 and 1. \n",
    "2. Every additional number in the sequence is the sum of the two previous numbers. \n",
    "3. The first six numbers of the Fibonacci sequence are 1, 1, 2, 3, 5 and 8.\n"
   ]
  },
  {
   "cell_type": "code",
   "execution_count": 255,
   "metadata": {},
   "outputs": [
    {
     "data": {
      "text/plain": [
       "4613732"
      ]
     },
     "execution_count": 255,
     "metadata": {},
     "output_type": "execute_result"
    }
   ],
   "source": [
    "function sumFibs(num) {\n",
    "    var f = 0;\n",
    "    var p = 0;\n",
    "    var c = 1;\n",
    "    var total = 0;\n",
    "    while(c <= num){\n",
    "        if(c%2 !=0){total += c;}\n",
    "        f = p+c;\n",
    "        p = c;\n",
    "        c = f;\n",
    "    }\n",
    "  return total;\n",
    "}\n",
    "\n",
    "sumFibs(4000000);"
   ]
  },
  {
   "cell_type": "markdown",
   "metadata": {},
   "source": [
    "### 14. Sum All Primes\n",
    "#### Prime Algorithm -  check if number can be divided..  - Use Math.sqrt() to shorten\n",
    "__Sum all the prime numbers up to and including the provided number.__\n",
    "\n",
    "A prime number is defined as a number greater than one and having only two divisors, one and itself. For example, 2 is a prime number because it's only divisible by one and two.\n",
    " \n",
    " 1. Get all numbers\n",
    " 2. Go thru all numbers checking for a prime.\n",
    "     3. Use the While j < Math.sqrt(), x%j ==0 test"
   ]
  },
  {
   "cell_type": "code",
   "execution_count": 297,
   "metadata": {},
   "outputs": [
    {
     "data": {
      "text/plain": [
       "73156"
      ]
     },
     "execution_count": 297,
     "metadata": {},
     "output_type": "execute_result"
    }
   ],
   "source": [
    "function sumPrimes(num) {\n",
    "\n",
    "    var tot = 0;\n",
    "    var arr = [];\n",
    "\n",
    "   for(var i=2; i<= num; i++){\n",
    "        arr.push(i);\n",
    "    }\n",
    "    \n",
    "    arr = arr.filter(function(x){\n",
    "        if(x ==2 || x==3){\n",
    "            tot += x; \n",
    "            return true;\n",
    "        } else{\n",
    "        var j = 2;\n",
    "        //test all j to  x\n",
    "        while (j < Math.sqrt(x) + 1) {\n",
    "            if (x%j == 0) {\n",
    "                return false;\n",
    "               }\n",
    "            j++; \n",
    "        }\n",
    "        tot += x; // x got thru\n",
    "        }\n",
    "    return true;\n",
    "    })\n",
    "        \n",
    "    return tot ;\n",
    "}\n",
    "sumPrimes(977);"
   ]
  },
  {
   "cell_type": "markdown",
   "metadata": {},
   "source": [
    "### 15.  Smallest Common - can do it 2 ways\n",
    "* Way I did it: \n",
    "    * Increment largets until all the others go in evenly.\n",
    "* Other way: \n",
    "    * Get the prime factors (base factors) for all numbers and use technique above. \n",
    "    * Prime factors are usually smaller, so that part will run quicker."
   ]
  },
  {
   "cell_type": "code",
   "execution_count": 316,
   "metadata": {},
   "outputs": [
    {
     "data": {
      "text/plain": [
       "360360"
      ]
     },
     "execution_count": 316,
     "metadata": {},
     "output_type": "execute_result"
    }
   ],
   "source": [
    "function smallestCommons(arr) {\n",
    " \n",
    "  var max = arr.sort()[1];\n",
    "  var min = arr.sort()[0];\n",
    "  var sCom = 0;\n",
    "  var x = 1;\n",
    "\n",
    "   while( x ){\n",
    "        sCom += max;\n",
    "        var rem = 0;\n",
    "        for(var i = min; i< max; i++){\n",
    "            rem += sCom%i;\n",
    "        }\n",
    "        if(rem == 0){\n",
    "            return sCom;\n",
    "        }\n",
    "    }\n",
    "    return sCom;\n",
    "}\n",
    "smallestCommons([1,13]);\n"
   ]
  },
  {
   "cell_type": "markdown",
   "metadata": {},
   "source": [
    "### 16. Finders Keepers\n",
    "#### Array.filter()\n",
    "Create a function that looks through an array (first argument) and returns the first element in the array that passes a truth test (second argument)."
   ]
  },
  {
   "cell_type": "code",
   "execution_count": 319,
   "metadata": {},
   "outputs": [
    {
     "data": {
      "text/plain": [
       "undefined"
      ]
     },
     "execution_count": 319,
     "metadata": {},
     "output_type": "execute_result"
    }
   ],
   "source": [
    "function findElement(arr, func) {\n",
    "  var num = 0;\n",
    "    num = arr.filter(func)[0];\n",
    "  return num;\n",
    "}\n",
    "\n",
    "//findElement([1, 2, 3, 4], function(num){ return num % 2 === 0; });\n",
    "findElement([1, 3, 5, 9], function(num) { return num % 2 === 0; })"
   ]
  },
  {
   "cell_type": "markdown",
   "metadata": {},
   "source": [
    "### 17. Drop it - Passing a function parameter\n",
    "#### Arguments object, Array..shift(), Array..slice()\n",
    "* Drop the elements of an array (first argument), starting from the front, until the predicate (second argument) returns true.\n",
    "\n",
    "* The second argument, func, is a function you'll use to test the first elements of the array to decide if you should drop it or not."
   ]
  },
  {
   "cell_type": "code",
   "execution_count": 53,
   "metadata": {},
   "outputs": [
    {
     "data": {
      "text/plain": [
       "[ 3, 9, 2 ]"
      ]
     },
     "execution_count": 53,
     "metadata": {},
     "output_type": "execute_result"
    }
   ],
   "source": [
    "function dropElements(arr, func) {\n",
    "  // Drop them elements.\n",
    "    var res = arr.slice(0,arr.length);\n",
    "\n",
    "    for(var i=0; i<arr.length; i++){\n",
    "        if(func(arr[i])){\n",
    "           return res;\n",
    "        }else {\n",
    "            res.shift();\n",
    "        }\n",
    "    }\n",
    "  return res;\n",
    "}\n",
    "dropElements([1, 2, 3, 9, 2], function(n) {return n > 2;})\n",
    "//dropElements([1, 2, 3, 4], function(n) {return n >= 3;})\n",
    "//dropElements([1, 2, 3], function(n) {return n < 3; });\n",
    "//dropElements([1, 2, 3], function(n) {console.log(\"n: \" + n); return n < 3; });"
   ]
  },
  {
   "cell_type": "markdown",
   "metadata": {},
   "source": [
    "### 18. Steamroller - Flatten a nested array\n",
    "#### Array.isArray()\n",
    "\n",
    "* Flatten a nested array. \n",
    "    * You must account for varying levels of nesting.\n",
    "* isArray(); \n",
    "    * https://developer.mozilla.org/en-US/docs/Web/JavaScript/Reference/Global_Objects/Array/isArray"
   ]
  },
  {
   "cell_type": "code",
   "execution_count": 59,
   "metadata": {},
   "outputs": [
    {
     "data": {
      "text/plain": [
       "[ 1, {}, 3, 4 ]"
      ]
     },
     "execution_count": 59,
     "metadata": {},
     "output_type": "execute_result"
    }
   ],
   "source": [
    "function steamrollArray(arr) {\n",
    "    // I'm a steamroller, baby\n",
    "    var res = [];\n",
    "    checkArray(arr);\n",
    "\n",
    "    function checkArray(a){\n",
    "        for(var i=0; i<a.length; i++){\n",
    "            if(Array.isArray(a[i])){\n",
    "                checkArray(a[i]);\n",
    "            }else{\n",
    "                res.push(a[i]);\n",
    "            }\n",
    "        }\n",
    "    }\n",
    "    return res;\n",
    "}\n",
    "steamrollArray([1, {}, [3, [[4]]]]);    // should return [1, {}, 3, 4]\n",
    "//steamrollArray([1, [2], [3, [[4]]]]);"
   ]
  },
  {
   "cell_type": "markdown",
   "metadata": {},
   "source": [
    "### 19. Binary Agents - Translating strings, binary numbers\n",
    "#### parseInt();  String..charCodeAt(), String.fromCharCode()\n",
    "Return an English translated sentence of the passed binary string.\n",
    "* https://developer.mozilla.org/en-US/docs/Web/JavaScript/Reference/Global_Objects/parseInt\n",
    "* https://developer.mozilla.org/en-US/docs/Web/JavaScript/Reference/Global_Objects/String/charCodeAt\n",
    "* https://developer.mozilla.org/en-US/docs/Web/JavaScript/Reference/Global_Objects/String/fromCharCode"
   ]
  },
  {
   "cell_type": "code",
   "execution_count": 86,
   "metadata": {},
   "outputs": [
    {
     "data": {
      "text/plain": [
       "'Aren\\'t bonfires fun!?'"
      ]
     },
     "execution_count": 86,
     "metadata": {},
     "output_type": "execute_result"
    }
   ],
   "source": [
    "function binaryAgent(str) {\n",
    "    var strArr = str.split(\" \");\n",
    "  var res = strArr.map(function(x){\n",
    "              return String.fromCharCode(parseInt(x,2));\n",
    "              });\n",
    "     return res.join(\"\")\n",
    "}\n",
    "binaryAgent(\"01000001 01110010 01100101 01101110 00100111 01110100 00100000 01100010 01101111 01101110 01100110 01101001 01110010 01100101 01110011 00100000 01100110 01110101 01101110 00100001 00111111\");"
   ]
  },
  {
   "cell_type": "markdown",
   "metadata": {},
   "source": [
    "### 20. Everything Be True - Object traverse\n",
    "Check if the predicate (second argument) is truthy on all elements of a collection (first argument).\n",
    "Remember, you can access object properties through either dot notation or [] notation."
   ]
  },
  {
   "cell_type": "code",
   "execution_count": 96,
   "metadata": {},
   "outputs": [
    {
     "name": "stdout",
     "output_type": "stream",
     "text": [
      "true\n"
     ]
    },
    {
     "data": {
      "text/plain": [
       "'collection.length: 1, tot: 1'"
      ]
     },
     "execution_count": 96,
     "metadata": {},
     "output_type": "execute_result"
    }
   ],
   "source": [
    "function truthCheck(collection, pre) {\n",
    "\n",
    "    var tot = 0;\n",
    "    for(var i=0; i<collection.length; i++){\n",
    "    \n",
    "        if(collection[i][pre]){\n",
    "         tot += 1; \n",
    "        }\n",
    "    }\n",
    "   // return \"collection.length: \" + collection.length + \", tot: \" + tot;\n",
    "   return collection.length == tot;\n",
    "\n",
    "}\n",
    "// truthCheck([{\"user\": \"Tinky-Winky\", \"sex\": \"male\"}, {\"user\": \"Dipsy\", \"sex\": \"male\"}, {\"user\": \"Laa-Laa\", \"sex\": \"female\"}, {\"user\": \"Po\", \"sex\": \"female\"}], \"sex\")\n",
    "// truthCheck([{\"user\": \"Tinky-Winky\", \"sex\": \"male\"}, {\"user\": \"Dipsy\"}, {\"user\": \"Laa-Laa\", \"sex\": \"female\"}, {\"user\": \"Po\", \"sex\": \"female\"}], \"sex\")\n",
    "// truthCheck([{\"user\": \"Tinky-Winky\", \"sex\": \"male\", \"age\": 0}, {\"user\": \"Dipsy\", \"sex\": \"male\", \"age\": 3}, {\"user\": \"Laa-Laa\", \"sex\": \"female\", \"age\": 5}, {\"user\": \"Po\", \"sex\": \"female\", \"age\": 4}], \"age\")\n",
    "// truthCheck([{\"name\": \"Pete\", \"onBoat\": true}, {\"name\": \"Repeat\", \"onBoat\": true}, {\"name\": \"FastFoward\", \"onBoat\": null}], \"onBoat\")\n",
    "// truthCheck([{\"name\": \"Pete\", \"onBoat\": true}, {\"name\": \"Repeat\", \"onBoat\": true, \"alias\": \"Repete\"}, {\"name\": \"FastFoward\", \"onBoat\": true}], \"onBoat\")\n",
    "truthCheck([{\"single\": \"yes\"}], \"single\")\n",
    "\n"
   ]
  },
  {
   "cell_type": "markdown",
   "metadata": {},
   "source": [
    "### 21. Arguments Optional - checking aruments\n",
    "#### arguments Object\n",
    "__Create a function that sums two arguments together.__ \n",
    "1. If only one argument is provided, then return a function that expects one argument and returns the sum.\n",
    "    1. For example, addTogether(2, 3) should return 5, and addTogether(2) should return a function.\n",
    "\n",
    "    2. Calling this returned function with a single argument will then return the sum:\n",
    "\n",
    "        * var sumTwoAnd = addTogether(2);\n",
    "\n",
    "        * sumTwoAnd(3) returns 5.\n",
    "\n",
    "    3. If either argument isn't a valid number, return undefined."
   ]
  },
  {
   "cell_type": "code",
   "execution_count": 142,
   "metadata": {},
   "outputs": [
    {
     "data": {
      "text/plain": [
       "5"
      ]
     },
     "execution_count": 142,
     "metadata": {},
     "output_type": "execute_result"
    }
   ],
   "source": [
    "function addTogether() {\n",
    "    for(var i=0; i<arguments.length; i++){\n",
    "        if(typeof arguments[i] != 'number'){\n",
    "            return;\n",
    "        }\n",
    "    }\n",
    "    switch(arguments.length){\n",
    "      case 0:\n",
    "            return;\n",
    "      case 1:\n",
    "            var x = arguments[0];\n",
    "            return next;\n",
    "      default:\n",
    "          return arguments[0] + arguments[1];\n",
    "  }\n",
    "    // return Funct\n",
    "    function next(y){\n",
    "        if(typeof y != 'number'){\n",
    "            return; \n",
    "        } else{\n",
    "            return x + y;\n",
    "        } \n",
    "    }\n",
    "}\n",
    " addTogether(2, 3);   // should return 5.\n",
    " // addTogether(2)(3);   // should return 5.\n",
    "// addTogether(\"http://bit.ly/IqT6zt\");   // should return undefined.\n",
    "// addTogether(2, \"3\");   // should return undefined.\n",
    "// addTogether(2)([3]);   //should return undefined.\n",
    "// addTogether(2)([3]);   // should return 5."
   ]
  }
 ],
 "metadata": {
  "kernelspec": {
   "display_name": "Javascript (Node.js)",
   "language": "javascript",
   "name": "javascript"
  },
  "language_info": {
   "file_extension": ".js",
   "mimetype": "application/javascript",
   "name": "javascript",
   "version": "6.9.2"
  }
 },
 "nbformat": 4,
 "nbformat_minor": 2
}
