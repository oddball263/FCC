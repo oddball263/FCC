{
 "cells": [
  {
   "attachments": {},
   "cell_type": "markdown",
   "metadata": {},
   "source": [
    "[https://mdn.mozillademos.org/files/3060/figure8.1.png]\n"
   ]
  },
  {
   "cell_type": "code",
   "execution_count": 1,
   "metadata": {},
   "outputs": [
    {
     "data": {
      "text/plain": [
       "undefined"
      ]
     },
     "execution_count": 1,
     "metadata": {},
     "output_type": "execute_result"
    }
   ],
   "source": [
    "function Employee() {\n",
    "  this.name = '';\n",
    "  this.dept = 'general';\n",
    "}"
   ]
  },
  {
   "cell_type": "markdown",
   "metadata": {},
   "source": [
    "### 1. These will inherit from oEmployee.\n",
    "* __prototypes__\n",
    "    * oManager - Adds the reports property\n",
    "    * oWorkerBee - Adds the property projects"
   ]
  },
  {
   "cell_type": "code",
   "execution_count": 2,
   "metadata": {},
   "outputs": [
    {
     "data": {
      "text/plain": [
       "Employee {}"
      ]
     },
     "execution_count": 2,
     "metadata": {},
     "output_type": "execute_result"
    }
   ],
   "source": [
    "function Manager() {\n",
    "  Employee.call(this);   // call the parent prototype\n",
    "  this.reports = [];  \n",
    "}\n",
    "Manager.prototype = Object.create(Employee.prototype);\n",
    "\n",
    "function WorkerBee() {\n",
    "  Employee.call(this);    // call the parent prototype\n",
    "  this.projects = [];    \n",
    "}\n",
    "WorkerBee.prototype = Object.create(Employee.prototype);"
   ]
  },
  {
   "cell_type": "markdown",
   "metadata": {},
   "source": [
    "### 2. The oEngineer and oSalesPerson definitions \n",
    "* __prototypes__\n",
    "    * Create objects that descend __from WorkerBee__ and hence __from Employee__. \n",
    "    * An object of these types has __properties of all the objects above__ it in the chain. \n",
    "        * In addition, these definitions __override the inherited value__ of the dept property with new values specific to these objects."
   ]
  },
  {
   "cell_type": "code",
   "execution_count": 3,
   "metadata": {},
   "outputs": [
    {
     "data": {
      "text/plain": [
       "Employee {}"
      ]
     },
     "execution_count": 3,
     "metadata": {},
     "output_type": "execute_result"
    }
   ],
   "source": [
    "function SalesPerson() {\n",
    "   WorkerBee.call(this);     // call the parent prototype\n",
    "   this.dept = 'sales';\n",
    "   this.quota = 100;\n",
    "}\n",
    "SalesPerson.prototype = Object.create(WorkerBee.prototype);\n",
    "\n",
    "function Engineer() {\n",
    "   WorkerBee.call(this);      // call the parent prototype\n",
    "   this.dept = 'engineering';\n",
    "   this.machine = '';\n",
    "}\n",
    "Engineer.prototype = Object.create(WorkerBee.prototype);"
   ]
  },
  {
   "cell_type": "markdown",
   "metadata": {},
   "source": [
    "### 3. [[Prototype]]\n",
    "* When JavaScript sees the new operator, it creates a new generic object and implicitly sets the value of the internal property [[Prototype]] to the value of WorkerBee.prototype and passes this new object as the value of the this keyword to the WorkerBee constructor function. \n",
    "  \n",
    "* This process does not explicitly put values in the mark object (local values) for the properties that mark inherits from the prototype chain. When you ask for the value of a property, JavaScript first checks to see if the value exists in that object. If it does, that value is returned. If the value is not there locally, JavaScript checks the prototype chain (using the internal [[Prototype]] property). If an object in the prototype chain has a value for the property, that value is returned. If no such property is found, JavaScript says the object does not have the property. In this way, the mark object has the following properties and values:"
   ]
  },
  {
   "cell_type": "code",
   "execution_count": 4,
   "metadata": {},
   "outputs": [
    {
     "data": {
      "text/plain": [
       "[ 'navigator' ]"
      ]
     },
     "execution_count": 4,
     "metadata": {},
     "output_type": "execute_result"
    }
   ],
   "source": [
    "var mark = new WorkerBee;\n",
    "//inherited prooperties...\n",
    "mark.name = '';\n",
    "mark.dept = 'general';\n",
    "mark.projects = [];\n",
    "// We can change/add/delete these...\n",
    "mark.name = 'Doe, Mark';\n",
    "mark.dept = 'admin';\n",
    "mark.projects = ['navigator'];"
   ]
  },
  {
   "cell_type": "markdown",
   "metadata": {},
   "source": [
    "### 4. Add property to an object that is being used as a Prototype\n",
    "* If you add a new property to an object that is being used as the prototype for a constructor function, you add that property to all objects that inherit properties from the prototype. \n",
    "  \n",
    "* For example, you can add a specialty property to all employees with the following statement:"
   ]
  },
  {
   "cell_type": "code",
   "execution_count": 23,
   "metadata": {},
   "outputs": [
    {
     "name": "stdout",
     "output_type": "stream",
     "text": [
      "undefined\n",
      "Goofing off\n",
      "Goofing off\n"
     ]
    },
    {
     "data": {
      "text/plain": [
       "[ 'name', 'dept', 'projects' ]"
      ]
     },
     "execution_count": 23,
     "metadata": {},
     "output_type": "execute_result"
    }
   ],
   "source": [
    "function Employee() {\n",
    "  this.name = '';\n",
    "  this.dept = 'general';\n",
    "}\n",
    "function WorkerBee() {\n",
    "  Employee.call(this);    // call the parent prototype\n",
    "  this.projects = [];    \n",
    "}\n",
    "//WorkerBee.prototype = new Employee;\n",
    "WorkerBee.prototype = Object.create(Employee.prototype);\n",
    "\n",
    "var mark = new WorkerBee;\n",
    "console.log(mark.specialty);\n",
    "\n",
    "var fred = new WorkerBee;\n",
    "\n",
    "Employee.prototype.specialty = 'Goofing off';\n",
    "console.log(mark.specialty);\n",
    "console.log(fred.specialty);\n",
    "Object.keys(fred);\n",
    "//Object.entries(fred);\n",
    "\n",
    "//const obj = { foo: 'bar', baz: 42 };\n",
    "//console.log(Object.entries(obj)); // [ ['foo', 'bar'], ['baz', 42] ]"
   ]
  },
  {
   "cell_type": "markdown",
   "metadata": {},
   "source": [
    "### 5. for...in loop - Properies vs Object.keys();\n",
    "* Gets properties - including in the prototype chain.\n",
    "* Object.keys(); only gets base prototype properties at constructor time?"
   ]
  },
  {
   "cell_type": "code",
   "execution_count": 22,
   "metadata": {},
   "outputs": [
    {
     "name": "stdout",
     "output_type": "stream",
     "text": [
      "fred.name = \n",
      "fred.dept = general\n",
      "fred.projects = \n",
      "fred.specialty = Goofing off\n"
     ]
    },
    {
     "data": {
      "text/plain": [
       "undefined"
      ]
     },
     "execution_count": 22,
     "metadata": {},
     "output_type": "execute_result"
    }
   ],
   "source": [
    "for (const prop in fred) {\n",
    "  console.log(`fred.${prop} = ${fred[prop]}`);\n",
    "}"
   ]
  },
  {
   "cell_type": "markdown",
   "metadata": {},
   "source": [
    "### 6. Better Constructors\n",
    "#### Follow this coding..."
   ]
  },
  {
   "cell_type": "code",
   "execution_count": 34,
   "metadata": {},
   "outputs": [
    {
     "name": "stdout",
     "output_type": "stream",
     "text": [
      "Object.keys(jane)\n",
      "[ 'dept', 'machine' ]\n",
      "\n",
      " for ... in loop\n",
      "jane.dept = engineering\n",
      "jane.machine = belau\n",
      "jane.projects = \n",
      "jane.name = \n"
     ]
    },
    {
     "data": {
      "text/plain": [
       "undefined"
      ]
     },
     "execution_count": 34,
     "metadata": {},
     "output_type": "execute_result"
    }
   ],
   "source": [
    "function Employee(name, dept) {\n",
    "    this.name = name || '';\n",
    "    this.dept = dept || 'general';\n",
    "}\n",
    "function WorkerBee(projs) {\n",
    "    this.projects = projs || [];\n",
    "}\n",
    "WorkerBee.prototype = new Employee;\n",
    "\n",
    "function Engineer(mach) {\n",
    "    this.dept = 'engineering';\n",
    "    this.machine = mach || '';\n",
    "}\n",
    "Engineer.prototype = new WorkerBee;\n",
    "\n",
    "var jane = new Engineer('belau');\n",
    "\n",
    "console.log(\"Object.keys(jane)\");\n",
    "console.log(Object.keys(jane));\n",
    "\n",
    "console.log(\"\\n for ... in loop\");\n",
    "for (const prop in jane) {\n",
    "  console.log(`jane.${prop} = ${jane[prop]}`);\n",
    "}"
   ]
  },
  {
   "cell_type": "markdown",
   "metadata": {},
   "source": [
    "### 7. More Complex -Better Constructors\n",
    "#### Adding defaults...  seems reduntant !!!!!!!"
   ]
  },
  {
   "cell_type": "code",
   "execution_count": 33,
   "metadata": {},
   "outputs": [
    {
     "name": "stdout",
     "output_type": "stream",
     "text": [
      "Object.keys(jane)\n",
      "[ 'base', 'name', 'dept', 'projects', 'machine' ]\n",
      "\n",
      " for ... in loop\n",
      "jane.base = function Employee(name, dept) {\n",
      "    this.name = name || '';\n",
      "    this.dept = dept || 'general';\n",
      "}\n",
      "jane.name = Doe, Jane\n",
      "jane.dept = engineering\n",
      "jane.projects = navigator,javascript\n",
      "jane.machine = belau\n"
     ]
    },
    {
     "data": {
      "text/plain": [
       "undefined"
      ]
     },
     "execution_count": 33,
     "metadata": {},
     "output_type": "execute_result"
    }
   ],
   "source": [
    "function Employee(name, dept) {\n",
    "    this.name = name || '';\n",
    "    this.dept = dept || 'general';\n",
    "}\n",
    "function WorkerBee(name, dept, projs) {\n",
    "    this.base = Employee;\n",
    "    this.base(name, dept)\n",
    "    this.projects = projs || [];\n",
    "}\n",
    "WorkerBee.prototype = new Employee;\n",
    "\n",
    "function Engineer(name, projs, mach) {\n",
    "  this.base = WorkerBee;\n",
    "  this.base(name, 'engineering', projs);\n",
    "  this.machine = mach || '';\n",
    "}\n",
    "Engineer.prototype = new WorkerBee;\n",
    "\n",
    "var jane = new Engineer('Doe, Jane', ['navigator', 'javascript'], 'belau');\n",
    "\n",
    "console.log(\"Object.keys(jane)\");\n",
    "console.log(Object.keys(jane));\n",
    "\n",
    "console.log(\"\\n for ... in loop\");\n",
    "for (const prop in jane) {\n",
    "  console.log(`jane.${prop} = ${jane[prop]}`);\n",
    "}"
   ]
  },
  {
   "cell_type": "markdown",
   "metadata": {},
   "source": [
    "### 8. Insuring Inheritance\n",
    "#### Engineer.prototype = new WorkerBee; or call(); Much Shorter !!!!"
   ]
  },
  {
   "cell_type": "code",
   "execution_count": 37,
   "metadata": {},
   "outputs": [
    {
     "name": "stdout",
     "output_type": "stream",
     "text": [
      "\n",
      " for ... in loop\n",
      "jane.projects = Doe, Jane\n",
      "jane.machine = belau\n",
      "jane.name = \n",
      "jane.dept = general\n",
      "jane.specialty = Messing Up\n",
      "\n",
      " for ... in loop\n",
      "jane.projects = Doe, Jane\n",
      "jane.machine = belau\n",
      "jane.name = \n",
      "jane.dept = general\n",
      "jane.specialty = Failing\n"
     ]
    },
    {
     "data": {
      "text/plain": [
       "undefined"
      ]
     },
     "execution_count": 37,
     "metadata": {},
     "output_type": "execute_result"
    }
   ],
   "source": [
    "function Engineer(name, projs, mach) {\n",
    "  this.base = WorkerBee;\n",
    "  this.base(name, 'engineering', projs);\n",
    "  this.machine = mach || '';\n",
    "}\n",
    "Engineer.prototype = new WorkerBee;\n",
    "var jane = new Engineer('Doe, Jane', ['navigator', 'javascript'], 'belau');\n",
    "// add a new prop to base.\n",
    "Employee.prototype.specialty = 'Messing Up';\n",
    "\n",
    "console.log(\"\\n for ... in loop\");\n",
    "for (const prop in jane) {\n",
    "  console.log(`jane.${prop} = ${jane[prop]}`);\n",
    "}\n",
    "\n",
    "/// call.......\n",
    "function Engineer(name, projs, mach) {\n",
    "  WorkerBee.call(this, name, 'engineering', projs);\n",
    "  this.machine = mach || '';\n",
    "}\n",
    "var jane = new Engineer('Doe, Jane', ['navigator', 'javascript'], 'belau');\n",
    "// add a new prop to base.\n",
    "Employee.prototype.specialty = 'Failing';\n",
    "\n",
    "console.log(\"\\n for ... in loop\");\n",
    "for (const prop in jane) {\n",
    "  console.log(`jane.${prop} = ${jane[prop]}`);\n",
    "}"
   ]
  },
  {
   "cell_type": "code",
   "execution_count": null,
   "metadata": {},
   "outputs": [],
   "source": []
  }
 ],
 "metadata": {
  "kernelspec": {
   "display_name": "Javascript (Node.js)",
   "language": "javascript",
   "name": "javascript"
  },
  "language_info": {
   "file_extension": ".js",
   "mimetype": "application/javascript",
   "name": "javascript",
   "version": "6.9.2"
  }
 },
 "nbformat": 4,
 "nbformat_minor": 2
}
