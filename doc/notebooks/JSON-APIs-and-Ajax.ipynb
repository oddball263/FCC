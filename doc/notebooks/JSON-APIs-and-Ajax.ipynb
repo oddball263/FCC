{
 "cells": [
  {
   "cell_type": "markdown",
   "metadata": {
    "raw_mimetype": "text/html",
    "slideshow": {
     "slide_type": "-"
    }
   },
   "source": [
    "## JSON, APIs, Ajax, jQuery\n",
    "__(2 hours)__\n",
    "\n",
    "In this section, we'll learn how to get data from APIs. APIs - or Application Programming Interfaces - are tools that computers use to communicate with one another.\n",
    "\n",
    "We'll also learn how to update HTML with the data we get from these APIs using a technology called Ajax.\n",
    "\n",
    "* Trigger Click Events with jQuery Incomplete\n",
    "\n",
    "* Change Text with Click Events Incomplete\n",
    "\n",
    "* Get JSON with the jQuery getJSON Method Incomplete\n",
    "\n",
    "* Convert JSON Data to HTML Incomplete\n",
    "\n",
    "* Render Images from Data Sources Incomplete\n",
    "\n",
    "* Prefilter JSON Incomplete\n",
    "\n",
    "* Get Geo-location Data"
   ]
  },
  {
   "cell_type": "markdown",
   "metadata": {},
   "source": [
    "### Trigger Click Events with jQuery\n",
    "#### $(document).ready(function(){});\n"
   ]
  },
  {
   "cell_type": "code",
   "execution_count": 1,
   "metadata": {},
   "outputs": [
    {
     "data": {
      "text/plain": [
       "NaN"
      ]
     },
     "execution_count": 1,
     "metadata": {},
     "output_type": "execute_result"
    }
   ],
   "source": [
    " $(document).ready(function() {\n",
    "    // Only change code below this line.\n",
    "    $(\"#getMessage\").on(\"click\", function(){\n",
    "        // add code ...\n",
    "    });\n",
    "  });"
   ]
  },
  {
   "cell_type": "markdown",
   "metadata": {},
   "source": [
    "### Change Text with Click Events\n",
    "#### .html(\"Here is the message\")"
   ]
  },
  {
   "cell_type": "code",
   "execution_count": null,
   "metadata": {},
   "outputs": [],
   "source": [
    "$(document).ready(function() {\n",
    "\n",
    "    $(\"#getMessage\").on(\"click\", function(){\n",
    "        $(\".message\").html(\"Here is the message\");\n",
    "    });\n",
    "    \n",
    "  });      "
   ]
  },
  {
   "cell_type": "markdown",
   "metadata": {},
   "source": [
    "  \n",
    "### AJAX call - jQuery\n",
    "#### jQuery Promise callbacks\n",
    "__Use datatype = JSONP to get around Origin conflicts__ \n",
    "**Callback success immediately form the ajax call."
   ]
  },
  {
   "cell_type": "code",
   "execution_count": null,
   "metadata": {},
   "outputs": [],
   "source": [
    "$.ajax({\n",
    "    url: 'https://en.wikipedia.org/w/api.php',\n",
    "    data: { action: 'query',\n",
    "        format:'json',\n",
    "        generator: 'prefixsearch',\n",
    "        gpssearch:srchVal,\n",
    "        gpslimit: qtyResults,\n",
    "        prop: 'pageimages|pageterms',\n",
    "        piprop:'thumbnail',\n",
    "        pithumbsize: 800,\n",
    "        pilimit: qtyResults,\n",
    "        redirects:''\n",
    "        //wbptterms: 'description' getting ALL pageterms above\n",
    "        },\n",
    "    dataType: 'jsonp',\n",
    "    success: function (data) {\n",
    "        console.log('Success');\n",
    "        getResults(data, pnlsPerRow);\n",
    "    }\n",
    "    }).fail(function(data){\n",
    "        console.log(\"Failed wb: \" + JSON.stringify(data));\n",
    "    });\n",
    "};"
   ]
  },
  {
   "cell_type": "markdown",
   "metadata": {},
   "source": [
    "  \n",
    "### Get JSON - jQuery getJSON() Method\n",
    "__Only works from the same domain,protocall, port.\n",
    "Otherwise, need to deal with \"Different Origin\" problem __"
   ]
  },
  {
   "cell_type": "code",
   "execution_count": null,
   "metadata": {},
   "outputs": [],
   "source": [
    "  $(document).ready(function() {\n",
    "\n",
    "    $(\"#getMessage\").on(\"click\", function(){\n",
    "      \n",
    "        $.getJSON(\"/json/cats.json\", function(json) {\n",
    "            $(\".message\").html(JSON.stringify(json));\n",
    "        });\n",
    "    });\n",
    "  });"
   ]
  },
  {
   "cell_type": "markdown",
   "metadata": {},
   "source": [
    "  \n",
    "### Convert JSON Data to HTML\n",
    "  \n",
    "#### Object.keys();\n",
    "__Returns an Array of the Objects keys __\n",
    "https://developer.mozilla.org/en-US/docs/Web/JavaScript/Reference/Global_Objects/Object/keys"
   ]
  },
  {
   "cell_type": "code",
   "execution_count": 87,
   "metadata": {},
   "outputs": [
    {
     "data": {
      "text/plain": [
       "'{ \"employees\" : [{ \"firstName\":\"John\" , \"lastName\":\"Doe\" },{ \"firstName\":\"Anna\" , \"lastName\":\"Smith\" },{ \"firstName\":\"Peter\" , \"lastName\":\"Jones\" } ],\"bosses\" :\"me\", \"peons\" : \"you\" }'"
      ]
     },
     "execution_count": 87,
     "metadata": {},
     "output_type": "execute_result"
    }
   ],
   "source": [
    "var text = '{ \"employees\" : [' +\n",
    "'{ \"firstName\":\"John\" , \"lastName\":\"Doe\" },' +\n",
    "'{ \"firstName\":\"Anna\" , \"lastName\":\"Smith\" },' +\n",
    "'{ \"firstName\":\"Peter\" , \"lastName\":\"Jones\" } ],' +\n",
    "'\"bosses\" :\"me\", \"peons\" : \"you\" }';\n",
    "\n",
    "//JSON.parse() \n",
    "//Use the JavaScript built-in function to convert the string into a JavaScript object:\n",
    "var JsonObj = JSON.parse(text);\n",
    "var keys = Object.keys(JsonObj);\n",
    "keys;"
   ]
  },
  {
   "cell_type": "markdown",
   "metadata": {},
   "source": [
    "#### keys.forEach(function(key) { key,  val[ key ] });\n",
    "__Use Array.prototype.forEach to get keys__\n",
    "https://developer.mozilla.org/en-US/docs/Web/JavaScript/Reference/Global_Objects/TypedArray/forEach\n",
    "Can put the function in the forEach or call it."
   ]
  },
  {
   "cell_type": "code",
   "execution_count": 78,
   "metadata": {},
   "outputs": [
    {
     "name": "stdout",
     "output_type": "stream",
     "text": [
      "Inside forEach[0] = employees\n",
      "Inside forEach[1] = bosses\n",
      "Inside forEach[2] = peons\n",
      "External Function call [0] = employees\n",
      "External Function call [1] = bosses\n",
      "External Function call [2] = peons\n"
     ]
    },
    {
     "data": {
      "text/plain": [
       "undefined"
      ]
     },
     "execution_count": 78,
     "metadata": {},
     "output_type": "execute_result"
    }
   ],
   "source": [
    "function logArrayElements(element, index, array) {\n",
    "    console.log('External Function call [' + index + '] = ' + element);\n",
    "}\n",
    "keys.forEach( logArrayElements);\n",
    "\n",
    "keys.forEach(function (element, index, array) {\n",
    "    console.log('Inside forEach[' + index + '] = ' + element);\n",
    "});"
   ]
  },
  {
   "cell_type": "markdown",
   "metadata": {},
   "source": [
    "#### Use dot(.) or bracket[\"val\"] notation.\n",
    "__Object.keyName or Object.[[\"keyName\"]]__\n",
    "__Array[index]__"
   ]
  },
  {
   "cell_type": "code",
   "execution_count": 163,
   "metadata": {},
   "outputs": [
    {
     "name": "stdout",
     "output_type": "stream",
     "text": [
      "key: employees, index: [0]\n",
      "  JsonObj[key] = [object Object],[object Object],[object Object]\n",
      "    ky = firstName, val = John\n",
      "      arr = firstName,lastName, val = firstName\n",
      "    ky = lastName, val = Doe\n",
      "      arr = firstName,lastName, val = lastName\n",
      "    ky = firstName, val = Anna\n",
      "      arr = firstName,lastName, val = firstName\n",
      "    ky = lastName, val = Smith\n",
      "      arr = firstName,lastName, val = lastName\n",
      "    ky = firstName, val = Peter\n",
      "      arr = firstName,lastName, val = firstName\n",
      "    ky = lastName, val = Jones\n",
      "      arr = firstName,lastName, val = lastName\n",
      "key: bosses, index: [1]\n",
      "  JsonObj[key] = me\n",
      "key: peons, index: [2]\n",
      "  JsonObj[key] = you\n"
     ]
    },
    {
     "data": {
      "text/plain": [
       "undefined"
      ]
     },
     "execution_count": 163,
     "metadata": {},
     "output_type": "execute_result"
    }
   ],
   "source": [
    "// Get the values - REMEBER \n",
    "var text = '{ \"employees\" : [' +\n",
    "'{ \"firstName\":\"John\" , \"lastName\":\"Doe\" },' +\n",
    "'{ \"firstName\":\"Anna\" , \"lastName\":\"Smith\" },' +\n",
    "'{ \"firstName\":\"Peter\" , \"lastName\":\"Jones\" } ],' +\n",
    "'\"bosses\" :\"me\", \"peons\" : \"you\" }';\n",
    "\n",
    "//JSON.parse() \n",
    "//Use the JavaScript built-in function to convert the string into a JavaScript object:\n",
    "var JsonObj = JSON.parse(text);\n",
    "var keys = Object.keys(JsonObj);\n",
    "\n",
    "keys.forEach( function (key, index, array) {\n",
    "    console.log(\"key: \" + key + \", index: [\" + index +\"]\");\n",
    "    console.log(\"  JsonObj[key] = \" + JsonObj[key]);\n",
    "    if( Array.isArray(JsonObj[key])){\n",
    "        JsonObj[key].forEach( function (k, i, arr) {\n",
    "               //console.log(\"arr[i] = \" + arr[i]);\n",
    "                    Object.keys(arr[i]).forEach( function (ky, indx, ar) {\n",
    "                       console.log(\"    ky = \" + ky + \", val = \" + arr[i][ky]);\n",
    "                       console.log(\"      arr = \" + ar + \", val = \" + ar[indx]);\n",
    "                      });\n",
    "    });\n",
    "    }\n",
    "});\n"
   ]
  },
  {
   "cell_type": "markdown",
   "metadata": {},
   "source": [
    "### Iterrating and Array with jQuery .each(data, function(name, vale){ });"
   ]
  },
  {
   "cell_type": "code",
   "execution_count": 1,
   "metadata": {},
   "outputs": [
    {
     "ename": "SyntaxError",
     "evalue": "Unexpected token .",
     "output_type": "error",
     "traceback": [
      "evalmachine.<anonymous>:3",
      ".each(json, function () {",
      "^",
      "SyntaxError: Unexpected token .",
      "    at Object.exports.runInThisContext (vm.js:76:16)",
      "    at run ([eval]:775:15)",
      "    at onRunRequest ([eval]:620:18)",
      "    at onMessage ([eval]:588:13)",
      "    at emitTwo (events.js:106:13)",
      "    at process.emit (events.js:191:7)",
      "    at process.nextTick (internal/child_process.js:744:12)",
      "    at _combinedTickCallback (internal/process/next_tick.js:67:7)",
      "    at process._tickCallback (internal/process/next_tick.js:98:9)"
     ]
    }
   ],
   "source": [
    "var json = [  { 'red': '#f00' }, { 'green': '#0f0' }, { 'blue': '#00f' } ];\n",
    "\n",
    "$.each(json, function () {\n",
    "    $.each(this, function (name, value) {\n",
    "    console.log(name + '=' + value);\n",
    "    });\n",
    "});\n"
   ]
  },
  {
   "cell_type": "code",
   "execution_count": 3,
   "metadata": {},
   "outputs": [
    {
     "data": {
      "text/plain": [
       "undefined"
      ]
     },
     "execution_count": 3,
     "metadata": {},
     "output_type": "execute_result"
    }
   ],
   "source": [
    "\n",
    "function test() {\n",
    "  var z = arguments.callee.name;\n",
    "  console.log(z);\n",
    "}"
   ]
  },
  {
   "cell_type": "markdown",
   "metadata": {},
   "source": [
    "  \n",
    "### Render Images from Data Sources\n",
    "#### Just html img code..."
   ]
  },
  {
   "cell_type": "code",
   "execution_count": 164,
   "metadata": {},
   "outputs": [
    {
     "ename": "ReferenceError",
     "evalue": "$ is not defined",
     "output_type": "error",
     "traceback": [
      "ReferenceError: $ is not defined",
      "    at evalmachine.<anonymous>:1:1",
      "    at ContextifyScript.Script.runInThisContext (vm.js:25:33)",
      "    at Object.exports.runInThisContext (vm.js:77:17)",
      "    at run ([eval]:775:15)",
      "    at onRunRequest ([eval]:620:18)",
      "    at onMessage ([eval]:588:13)",
      "    at emitTwo (events.js:106:13)",
      "    at process.emit (events.js:191:7)",
      "    at process.nextTick (internal/child_process.js:744:12)",
      "    at _combinedTickCallback (internal/process/next_tick.js:67:7)"
     ]
    }
   ],
   "source": [
    "$(\"#getMessage\").on(\"click\", function() {\n",
    "      $.getJSON(\"/json/cats.json\", function(json) {\n",
    "\n",
    "        var html = \"\";\n",
    "\n",
    "        json.forEach(function(val) {\n",
    "\n",
    "          html += \"<div class = 'cat'>\";\n",
    "          html += \"<img src = '\" + val.imageLink + \"' \" + \"alt='\" + val.altText + \"'>\";\n",
    "          html += \"</div>\";\n",
    "\n",
    "        });\n",
    "        $(\".message\").html(html);\n",
    "      });\n",
    "    });"
   ]
  },
  {
   "cell_type": "markdown",
   "metadata": {},
   "source": [
    "### Pre-Filter JSON\n",
    "#### Just use .filter(function(val){});"
   ]
  },
  {
   "cell_type": "code",
   "execution_count": null,
   "metadata": {},
   "outputs": [],
   "source": [
    "$(document).ready(function() {\n",
    "\n",
    "    $(\"#getMessage\").on(\"click\", function() {\n",
    "      $.getJSON(\"/json/cats.json\", function(json) {\n",
    "\n",
    "        var html = \"\";\n",
    "        json = json.filter(function(val) {\n",
    "          return (val.id !== 1);\n",
    "        });\n",
    "        json.forEach(function(val) {\n",
    "            html = \"do something...\";\n",
    "        });\n",
    "        $(\".message\").html(html);\n",
    "          \n",
    "      });\n",
    "    });\n",
    "  });"
   ]
  },
  {
   "cell_type": "markdown",
   "metadata": {},
   "source": [
    "### Get Geolocation Data\n",
    "#### navigator.geolocation.getCurrentPosition()..."
   ]
  },
  {
   "cell_type": "code",
   "execution_count": null,
   "metadata": {},
   "outputs": [],
   "source": [
    "if (navigator.geolocation) {\n",
    "  navigator.geolocation.getCurrentPosition(function(position) {\n",
    "    $(\"#data\").html(\"latitude: \" + position.coords.latitude + \"<br>longitude: \" + position.coords.longitude);\n",
    "  });\n",
    "}"
   ]
  }
 ],
 "metadata": {
  "celltoolbar": "Raw Cell Format",
  "kernelspec": {
   "display_name": "Javascript (Node.js)",
   "language": "javascript",
   "name": "javascript"
  },
  "language_info": {
   "file_extension": ".js",
   "mimetype": "application/javascript",
   "name": "javascript",
   "version": "6.9.2"
  }
 },
 "nbformat": 4,
 "nbformat_minor": 2
}
