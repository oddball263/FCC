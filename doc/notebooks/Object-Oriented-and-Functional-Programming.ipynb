{
 "cells": [
  {
   "cell_type": "markdown",
   "metadata": {},
   "source": [
    "## Object Oriented Functional Programming\n",
    ".. \n",
    "#### Declare JavaScript Objects as Variables\n",
    ".. \n",
    "#### Construct JavaScript Objects with Functions\n",
    "** Constructor functions. Construct an object.\n",
    "  1. uppercase\n",
    "  2. Trailing semi-colon\n",
    "  3. \"this\" refrence"
   ]
  },
  {
   "cell_type": "code",
   "execution_count": 15,
   "metadata": {},
   "outputs": [
    {
     "data": {
      "text/plain": [
       "6"
      ]
     },
     "execution_count": 15,
     "metadata": {},
     "output_type": "execute_result"
    }
   ],
   "source": [
    "var Car = function() {\n",
    "     this.wheels = 4;\n",
    "    this.engines = 1;\n",
    "    this.seats = 5;\n",
    "};\n",
    "var MotorBike = function() {\n",
    "    this.wheels = 6;\n",
    "    this.seats = 9;\n",
    "    this.engines = 787;\n",
    "};\n",
    "var myBike = new MotorBike();\n",
    "    myBike.wheels;"
   ]
  },
  {
   "cell_type": "markdown",
   "metadata": {},
   "source": [
    "#### Make Instances of Objects with a Constructor Function\n",
    "\n",
    "#### Make Unique Objects by Passing Parameters to our Constructor\n",
    "*** Pass in properties"
   ]
  },
  {
   "cell_type": "code",
   "execution_count": 16,
   "metadata": {},
   "outputs": [
    {
     "data": {
      "text/plain": [
       "5"
      ]
     },
     "execution_count": 16,
     "metadata": {},
     "output_type": "execute_result"
    }
   ],
   "source": [
    "var Car = function(wheels, seats, engines) {\n",
    "                this.wheels = wheels;\n",
    "                this.seats = seats;\n",
    "                  this.engines = engines;\n",
    "        };\n",
    "var myCar = new Car(4,5,6);\n",
    "    myCar.seats;"
   ]
  },
  {
   "cell_type": "markdown",
   "metadata": {},
   "source": [
    "#### Make Properties Private\n",
    "*** Use the \"var\" keyword instead of \"this.\""
   ]
  },
  {
   "cell_type": "code",
   "execution_count": 17,
   "metadata": {},
   "outputs": [
    {
     "data": {
      "text/plain": [
       "5"
      ]
     },
     "execution_count": 17,
     "metadata": {},
     "output_type": "execute_result"
    }
   ],
   "source": [
    "var Car = function() {\n",
    "  // this is a private variable\n",
    "  var speed = 10;\n",
    "  // these are public methods\n",
    "  this.accelerate = function(change) {\n",
    "    speed += change;\n",
    "  };\n",
    "  this.decelerate = function() {\n",
    "    speed -= 5;\n",
    "  };\n",
    "  this.getSpeed = function() {\n",
    "    return speed;\n",
    "  };\n",
    "};\n",
    "\n",
    "var Bike = function() {\n",
    "  // Only change code below this line.\n",
    "  var gear = 5;\n",
    "  this.getGear = function(level){\n",
    "    return gear;\n",
    "  };\n",
    "  this.setGear = function(level){\n",
    "        gear = level;\n",
    "  };\n",
    "};\n",
    "  \n",
    "var myBike = new Bike();\n",
    "// myBike.gear:\n",
    "myBike.getGear();"
   ]
  },
  {
   "cell_type": "markdown",
   "metadata": {},
   "source": [
    "#### Itterate Arrays with map()\n",
    "The map method will iterate through every element of the array, creating a NEW ARRAY with values that have been modified by the callback function, and return it. \n",
    "Note that it DOES NOT MODIFY the original array."
   ]
  },
  {
   "cell_type": "code",
   "execution_count": 18,
   "metadata": {},
   "outputs": [
    {
     "data": {
      "text/plain": [
       "[ 4, 5, 6, 7, 8 ]"
      ]
     },
     "execution_count": 18,
     "metadata": {},
     "output_type": "execute_result"
    }
   ],
   "source": [
    "var oldArray = [1,2,3,4,5];\n",
    "var newArray = oldArray.map(function (val){\n",
    "  return val + 3;\n",
    "});\n",
    "newArray;"
   ]
  },
  {
   "cell_type": "markdown",
   "metadata": {},
   "source": [
    "#### Condense Arrays with reduce()\n",
    ".\n",
    "The array method reduce is used to iterate through an array and **condense it into one value**.\n",
    "\n",
    "To use **reduce()** you pass in a callback whose arguments are:\n",
    "    1. an **accumulator** (in this case, previousVal) \n",
    "    2. and the **current value** (currentVal).\n",
    "\n",
    "    The accumulator is like a total that reduce keeps track of after each operation. \n",
    "    The current value is just the next element in the array you're iterating through.\n",
    "\n",
    "reduce has an **optional second argument** which can be used to set the initial value of the accumulator. If no initial value is specified it will be the **first array element** and currentVal will start with the second array element.\n",
    "\n",
    "Here is an **example of reduce being used to subtract all the values of an array:**"
   ]
  },
  {
   "cell_type": "code",
   "execution_count": 19,
   "metadata": {},
   "outputs": [
    {
     "data": {
      "text/plain": [
       "42"
      ]
     },
     "execution_count": 19,
     "metadata": {},
     "output_type": "execute_result"
    }
   ],
   "source": [
    "var array = [4,5,6,7,8];\n",
    "var singleVal = 0;\n",
    "\n",
    "singleVal = array.reduce(function (pre, cur){\n",
    "  return pre + cur;\n",
    "}, 12);\n",
    "singleVal;"
   ]
  },
  {
   "cell_type": "markdown",
   "metadata": {},
   "source": [
    "#### Filter Arrays with filter()\n",
    ".\n",
    "The filter method is used to iterate through an array and **filter out elements** where a given condition is **not true**.  \n",
    "**  KEEPS TRUE!!  **"
   ]
  },
  {
   "cell_type": "code",
   "execution_count": 20,
   "metadata": {},
   "outputs": [
    {
     "data": {
      "text/plain": [
       "[ 1, 2, 3, 4, 5 ]"
      ]
     },
     "execution_count": 20,
     "metadata": {},
     "output_type": "execute_result"
    }
   ],
   "source": [
    "var oldArray = [1,2,3,4,5,6,7,8,9,10];\n",
    "\n",
    "var newArray = oldArray.filter(function(val){\n",
    "  return val < 6;\n",
    "});\n",
    "newArray;"
   ]
  },
  {
   "cell_type": "markdown",
   "metadata": {},
   "source": [
    "#### Sort Arrays with sort()\n",
    "\n",
    "You can use the method **sort()** to easily sort the values in an array alphabetically or numerically.\n",
    "\n",
    "    1. Unlike the previous array methods we have been looking at, sort actually **alters the array in place**. \n",
    "    2. However, it **also returns this sorted array**.\n",
    "\n",
    "sort() can be passed a **compare function as a callback**. \n",
    "    1. The compare function should...\n",
    "        i. return a **negative number** if \"a\" should be before \"b\", \n",
    "        ii. a **positive number** if \"a\" should be after \"b\", \n",
    "        iii. or **0** if they are \"equal\".\n",
    "\n",
    "If no compare (callback) function is passed:\n",
    "    i. it will **convert the values to strings** and sort alphabetically.\n",
    "\n",
    "Here is an example of using sort with a compare function that will sort the elements from smallest to largest number:\n",
    "\n",
    "var array = [1, 12, 21, 2];\n",
    "array.sort(function(a, b) {\n",
    "  return a - b;\n",
    "});"
   ]
  },
  {
   "cell_type": "code",
   "execution_count": 21,
   "metadata": {},
   "outputs": [
    {
     "data": {
      "text/plain": [
       "[ 98, 50, 22, 21, 12, 6, 2, 1, 1, 0 ]"
      ]
     },
     "execution_count": 21,
     "metadata": {},
     "output_type": "execute_result"
    }
   ],
   "source": [
    "//sort largest to smallest\n",
    "var array = [1, 12, 21, 2,0,6,1,22,98,50];\n",
    "\n",
    "array.sort(function(a,b){\n",
    "  return b-a;\n",
    "});\n",
    "array;"
   ]
  },
  {
   "cell_type": "markdown",
   "metadata": {},
   "source": [
    "#### Reverse Array with reverse()"
   ]
  },
  {
   "cell_type": "code",
   "execution_count": 22,
   "metadata": {},
   "outputs": [
    {
     "data": {
      "text/plain": [
       "[ 7, 6, 5, 4, 3, 2, 1 ]"
      ]
     },
     "execution_count": 22,
     "metadata": {},
     "output_type": "execute_result"
    }
   ],
   "source": [
    "var array = [1,2,3,4,5,6,7];\n",
    "var newArray = [];\n",
    "newArray = array.reverse();\n",
    "newArray;"
   ]
  },
  {
   "cell_type": "markdown",
   "metadata": {},
   "source": [
    "#### Concatenate Arrays with Concat()"
   ]
  },
  {
   "cell_type": "code",
   "execution_count": 23,
   "metadata": {},
   "outputs": [
    {
     "data": {
      "text/plain": [
       "[ 1, 2, 3, 4, 5, 6 ]"
      ]
     },
     "execution_count": 23,
     "metadata": {},
     "output_type": "execute_result"
    }
   ],
   "source": [
    "\n",
    "var oldArray = [1,2,3];\n",
    "var newArray = [];\n",
    "var concatMe = [4,5,6];\n",
    "newArray = oldArray.concat(concatMe);\n",
    "newArray;"
   ]
  },
  {
   "cell_type": "markdown",
   "metadata": {},
   "source": [
    "#### Split Strings with split()\n",
    "\n",
    "split() uses the argument you pass in as a **delimiter** to determine which points the string should be split at."
   ]
  },
  {
   "cell_type": "code",
   "execution_count": 24,
   "metadata": {},
   "outputs": [
    {
     "data": {
      "text/plain": [
       "[ 'Split', 'me', 'into', 'an', 'array' ]"
      ]
     },
     "execution_count": 24,
     "metadata": {},
     "output_type": "execute_result"
    }
   ],
   "source": [
    "var string = \"Split me into an array\";\n",
    "var array = [];\n",
    "array = string.split(\" \");\n",
    "array;"
   ]
  },
  {
   "cell_type": "markdown",
   "metadata": {},
   "source": [
    "#### Join Arrays with join()"
   ]
  },
  {
   "cell_type": "code",
   "execution_count": 25,
   "metadata": {},
   "outputs": [
    {
     "data": {
      "text/plain": [
       "'Split me into an array'"
      ]
     },
     "execution_count": 25,
     "metadata": {},
     "output_type": "execute_result"
    }
   ],
   "source": [
    "var joinMe = [\"Split\",\"me\",\"into\",\"an\",\"array\"];\n",
    "var joinedString = '';\n",
    "\n",
    "joinedString = joinMe.join(\" \");\n",
    "joinedString"
   ]
  }
 ],
 "metadata": {
  "celltoolbar": "Edit Metadata",
  "kernelspec": {
   "display_name": "Javascript (Node.js)",
   "language": "javascript",
   "name": "javascript"
  },
  "language_info": {
   "file_extension": ".js",
   "mimetype": "application/javascript",
   "name": "javascript",
   "version": "6.9.2"
  }
 },
 "nbformat": 4,
 "nbformat_minor": 2
}
