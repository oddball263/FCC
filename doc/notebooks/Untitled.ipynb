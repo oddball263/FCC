{
 "cells": [
  {
   "cell_type": "code",
   "execution_count": null,
   "metadata": {},
   "outputs": [],
   "source": [
    "var myRequest = new Request('http://localhost/flowers.jpg');\n",
    "\n",
    "var myURL = myRequest.url; // http://localhost/flowers.jpg\n",
    "var myMethod = myRequest.method; // GET\n",
    "var myCred = myRequest.credentials; // omit"
   ]
  }
 ],
 "metadata": {
  "kernelspec": {
   "display_name": "Javascript (Node.js)",
   "language": "javascript",
   "name": "javascript"
  },
  "language_info": {
   "file_extension": ".js",
   "mimetype": "application/javascript",
   "name": "javascript",
   "version": "6.9.2"
  }
 },
 "nbformat": 4,
 "nbformat_minor": 2
}
